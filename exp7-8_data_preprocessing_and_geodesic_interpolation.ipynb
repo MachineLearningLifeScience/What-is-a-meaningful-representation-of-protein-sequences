{
 "cells": [
  {
   "cell_type": "code",
   "execution_count": 1,
   "metadata": {},
   "outputs": [],
   "source": [
    "try:\n",
    "  import pytorch_lightning as pl\n",
    "except: \n",
    "  !pip install pytorch-lightning\n",
    "  import pytorch_lightning as pl\n",
    "    \n",
    "try:\n",
    "    from Bio import SeqIO\n",
    "except:\n",
    "    !pip install biopython\n",
    "    from Bio import SeqIO"
   ]
  },
  {
   "cell_type": "markdown",
   "metadata": {},
   "source": [
    "# Preprocessing"
   ]
  },
  {
   "cell_type": "code",
   "execution_count": 2,
   "metadata": {},
   "outputs": [],
   "source": [
    "# Options\n",
    "run_preprocessing = False\n",
    "\n",
    "import os\n",
    "\n",
    "# Download repo if notebook is taken out of context (e.g. by colab)\n",
    "if not os.path.exists('models'):\n",
    "    !git clone https://github.com/MachineLearningLifeScience/What-is-a-meaningful-representation-of-protein-sequences tmp_clone\n",
    "    !mv tmp_clone/* .\n",
    "    !rm -rf tmp_clone\n",
    "\n",
    "if run_preprocessing:\n",
    "\n",
    "    !pip install bioservices\n",
    "    \n",
    "    import scripts.exp7_preprocessing\n",
    "\n",
    "    # Run preprocessing script\n",
    "    scripts.exp7_preprocessing.process_data(os.getcwd())\n",
    "else:\n",
    "    # Retrieve ready-made files\n",
    "    if not os.path.exists('BLAT_ECOLX_1_b0.5_labeled.fasta'):\n",
    "        !wget https://sid.erda.dk/share_redirect/a5PTfl88w0/BLAT_ECOLX_1_b0.5_labeled.fasta\n",
    "    if not os.path.exists('BLAT_ECOLX_alignment_clustalo_maxalign.fasta'):\n",
    "        !wget https://sid.erda.dk/share_redirect/a5PTfl88w0/BLAT_ECOLX_alignment_clustalo_maxalign.fasta\n",
    "        \n",
    "# Check that files exist\n",
    "assert os.path.exists('BLAT_ECOLX_1_b0.5_labeled.fasta')\n",
    "assert os.path.exists('BLAT_ECOLX_alignment_clustalo_maxalign.fasta')"
   ]
  },
  {
   "cell_type": "code",
   "execution_count": 3,
   "metadata": {},
   "outputs": [],
   "source": [
    "queries = {'A1': \n",
    "           {'TEM-1': \"MSIQHFRVALIPFFAAFCLPVFAHPETLVKVKDAEDQLGARVGYIELDLNSGKILESFRPEERFPMMSTFKVLLCGAVLSRVDAGQEQLGRRIHYSQNDLVEYSPVTEKHLTDGMTVRELCSAAITMSDNTAANLLLTTIGGPKELTAFLHNMGDHVTRLDRWEPELNEAIPNDERDTTMPAAMATTLRKLLTGELLTLASRQQLIDWMEADKVAGPLLRSALPAGWFIADKSGAGERGSRGIIAALGPDGKPSRIVVIYTTGSQATMDERNRQIAEIGASLIKHW\",\n",
    "            'SHV-1': \"MRYIRLCIISLLATLPLAVHASPQPLEQIKLSESQLSGRVGMIEMDLASGRTLTAWRADERFPMMSTFKVVLCGAVLARVDAGDEQLERKIHYRQQDLVDYSPVSEKHLADGMTVGELCAAAITMSDNSAANLLLATVGGPAGLTAFLRQIGDNVTRLDRWETELNEALPGDARDTTTPASMAATLRKLLTSQRLSARSQRQLLQWMVDDRVAGPLIRSVLPAGWFIADKTGAGERGARGIVALLGPNNKAERIVVIYLRDTPASMAERNQQIAGIGAALIEHWQR\",\n",
    "            'PSE-1': \"MKFLLAFSLLIPSVVFASSSKFQQVEQDVKAIEVSLSARIGVSVLDTQNGEYWDYNGNQRFPLTSTFKTIACAKLLYDAEQGKVNPNSTVEIKKADLVTYSPVIEKQVGQAITLDDACFATMTTSDNTAANIILSAVGGPKGVTDFLRQIGDKETRLDRIEPDLNEGKLGDLRDTTTPKAIASTLNKFLFGSALSEMNQKKLESWMVNNQVTGNLLRSVLPAGWNIADRSGAGGFGARSITAVVWSEHQAPIIVSIYLAQTQASMAERNDAIVKIGHSIFDVYTSQSR\",\n",
    "            'RTG-2': \"MNVRKHKASFFSVVITFLCLTLSLNANATDSVLEAVTNAETELGARIGLAVHDLETGKRWEHKSNERFPLSSTFKTLACANVLQRVDLGKERIDRVVRFSESNLVTYSPVTEKHVGKKGMSLAELCQATLSTSDNSAANFILQAIGGPKALTKFLRSIGDDTTRLDRWETELNEAVPGDKRDTTTPIAMVTTLEKLLIDETLSIKSRQQLESWLKGNEVGDALFRKGVPSDWIVADRTGAGGYGSRAITAVMWPPNRKPIVAALYITETDASFEERNAVIAKIGEQIAKTVLMENSRN\",\n",
    "            'CumA' : \"MTMFKTTFRQTATIAVSLISLLVSPMLWANTNNTIEEQLSTLEKYSQGRLGVALINTEDNSQITYRGEERFAMASTSKVMAVAAVLKESEKQAGLLDKNITIKKSDLVAYSPITEKHLVTGMSLAQLSAATLQYSDNTAMNKILDYLGGPAKVTQFARSINDVTYRLDRKEPELNTAIHGDPRDTTSPIAMAKSLQALTLGDALGQSQRQQLVTWLKGNTTGDHSIKAGLPKHWIVGDKTGSGDYGTTNDIAVIWPKNHAPLILVVYFTQQEQDAKYRKDIIVKATEIVTKEISNSPQTK\",\n",
    "            'OXY-1': \"MLKSSWRKTALMAAAAVPLLLASGSLWASADAIQQKLADLEKRSGGRLGVALINTADDSQTLYRGDERFAMCSTGKVMAAAAVLKQSESNPEVVNKRLEIKKSDLVVWSPITEKHLQSGMTLAELSAAALQYSDNTAMNKMISYLGGPEKVTAFAQSIGDVTFRLDRTEPALNSAIPGDKRDTTTPLAMAESLRKLTLGNALGEQQRAQLVTWLKGNTTGGQSIRAGLPASWAVGDKTGAGDYGTTNDIAVIWPENHAPLVLVTYFTQPQQDAKSRKEVLAAAAKIVTEGL\",\n",
    "            'KLUA-1': \"MMTQSIRRSMLTVMATLPLLFSSATLHAQANSVQQQLEALEKSSGGRLGVALINTADNSQILYRADERFAMCSTSKVMAAAAVLKQSESDKHLLNQRVEIKKSDLVNYNPIAEKHVNGTMTLAELGAAALQYSDNTAMNKLIAHLGGPDKVTAFARSLGDETFRLDRTEPTLNTAIPGDPRDTTTPLAMAQTLKNLTLGKALAETQRAQLVTWLKGNTTGSASIRAGLPKSWVVGDKTGSGDYGTTNDIAIIWPENHAPLVLVTYFTQPEQKAESRRDVLAAAAKIVTHGF\",\n",
    "            'CTX-M-1': \"MVKKSLRQFTLMATATVTLLLGSVPLYAQTADVQQKLAELERQSGGRLGVALINTADNSQILYRADERFAMCSTSKVMAVAAVLKKSESEPNLLNQRVEIKKSDLVNYNPIAEKHVDGTMSLAELSAAALQYSDNVAMNKLISHVGGPASVTAFARQLGDETFRLDRTEPTLNTAIPGDPRDTTSPRAMAQTLRNLTLGKALGDSQRAQLVTWMKGNTTGAASIQAGLPASWVVGDKTGSGDYGTTNDIAVIWPKDRAPLILVTYFTQPQPKAESRRDVLASAAKIVTNGL\",\n",
    "            'NMCA': \"MSLNVKQSRIAILFSSCLISISFFSQANTKGIDEIKNLETDFNGRIGVYALDTGSGKSFSYRANERFPLCSSFKGFLAAAVLKGSQDNRLNLNQIVNYNTRSLEFHSPITTKYKDNGMSLGDMAAAALQYSDNGATNIILERYIGGPEGMTKFMRSIGDEDFRLDRWELDLNTAIPGDERDTSTPAAVAKSLKTLALGNILSEHEKETYQTWLKGNTTGAARIRASVPSDWVVGDKTGSCGAYGTANDYAVVWPKNRAPLIISVYTTKNEKEAKHEDKVIAEASRIAIDNLK\",\n",
    "            'SME-1': \"MSNKVNFKTASFLFSVCLALSAFNAHANKSDAAAKQIKKLEEDFDGRIGVFAIDTGSGNTFGYRSDERFPLCSSFKGFLAAAVLERVQQKKLDINQKVKYESRDLEYHSPITTKYKGSGMTLGDMASAALQYSDNGATNIIMERFLGGPEGMTKFMRSIGDNEFRLDRWELELNTAIPGDKRDTSTPKAVANSLNKLALGNVLNAKVKAIYQNWLKGNTTGDARIRASVPADWVVGDKTGSCGAYGTANDYAVIWPKNRAPLIVSIYTTRKSKDDKHSDKTIAEASRIAIQAID\",\n",
    "            'KPC-2': \"MSLYRRLVLLSCLSWPLAGFSATALTNLVAEPFAKLEQDFGGSIGVYAMDTGSGATVSYRAEERFPLCSSFKGFLAAAVLARSQQQAGLLDTPIRYGKNALVPWSPISEKYLTTGMTVAELSAAAVQYSDNAAANLLLKELGGPAGLTAFMRSIGDTTFRLDRWELELNSAIPGDARDTSSPRAVTESLQKLTLGSALAAPQRQQFVDWLKGNTTGNHRIRAAVPADWAVGDKTGTCGVYGTANDYAVVWPTGRAPIVLAVYTRAPNKDDKHSEAVIAAAARLALEGLGVNGQ\",\n",
    "            'GES-1': \"MRFIHALLLAGIAHSAYASEKLTFKTDLEKLEREKAAQIGVAIVDPQGEIVAGHRMAQRFAMCSTFKFPLAALVFERIDSGTERGDRKLSYGPDMIVEWSPATERFLASGHMTVLEAAQAAVQLSDNGATNLLLREIGGPAAMTQYFRKIGDSVSRLDRKEPEMGDNTPGDLRDTTTPIAMARTVAKVLYGGALTSTSTHTIERWLIGNQTGDATLRAGFPKDWVVGEKTGTCANGGRNDIGFFKAQERDYAVAVYTTAPKLSAVERDELVASVGQVITQLILSTDK\",\n",
    "            'BEL-1': \"MKLLLYPLLLFLVIPAFAQADFEHAISDLEAHNQAKIGVALVSENGNLIQGYRANERFAMCSTFKLPLAALVLSRIDAGEENPERKLHYDSAFLEEYAPAAKRYVATGYMTVTEAIQSALQLSDNAAANLLLKEVGGPPLLTKYFRSLGDKVSRLDRIEPTLNTNTPGDERDTTTPMSMAQTVSKLIFGDTLTYKSKGQLRRLLIGNQTGDKTIRAGLPDSWVTGDKTGSCANGGRNDVAFFITTAGKKYVLSVYTNAPELQGEERALLIASVAKLARQYVVH\",\n",
    "            'BPS-1': \"MNHSPLRRSLLVAAISTPLIGACAPLRGQAKNVAAAERQLRELESTFDGRLGFVALDTATGARIAHRGDERFPFCSTSKMMLCAAVLARSAGEPALLQRRIAYAKGDLIRYSPITEQHVGAGMSVAELCAATLQYSDNTAANLLIALLGGPQAVTAYARSIGDATFRLDRREPELNTALPGDERDTTTPAAMAASVHRLLVGDALGAAQRAQLNAWMLGNKTGDARIRAGVPADWRVADKTGTGDYGTANDIGVAYPPNRAPIVFIVYTTMRNPNAQARDDVIASATRIAARAFA\"\n",
    "           },\n",
    "           'A2':\n",
    "           {'PER-1': \"MNVIIKAVVTASTLLMVSFSSFETSAQSPLLKEQIESIVIGKKATVGVAVWGPDDLEPLLINPFEKFPMQSVFKLHLAMLVLHQVDQGKLDLNQTVIVNRAKVLQNTWAPIMKAYQGDEFSVPVQQLLQYSVSHSDNVACDLLFELVGGPAALHDYIQSMGIKETAVVANEAQMHADDQVQYQNWTSMKGAAEILKKFEQKTQLSETSQALLWKWMVETTTGPERLKGLLPAGTVVAHKTGTSGIKAGKTAATNDLGIILLPDGRPLLVAVFVKDSAESSRTNEAIIAQVAQTAYQFELKKLSALSPN\",\n",
    "            'CEF-1': \"MKIVKRILLVLLSLFFTIVYSNAQTDNLTLKIENVLKAKNARIGVAIFNSNEKDTLKINNDFHFPMQSVMKFPIALAVLSEIDKGNLSFEQKIEITPQDLLPKTWSPIKEEFPNGTTLTIEQILNYTVSESDNIGCDILLKLIGGTDSVQKFLNANHFTDISIKANEEQMHKDWNTQYQNWATPTAMNKLLIDTYNNKNQLLSKKSYDFIWKIMRETTTGSNRLKGQLPKNTIVAHKTGTSGINNGIAAATNDVGVITLPNGQLIFISVFVAESKETSEINEKIISDIAKITWNYYLNK\",\n",
    "            'VEB-1': \"MKIVKRILLVLLSLFFTIVYSNAQTDNLTLKIENVLKAKNARIGVAIFNSNEKDTLKINNDFHFPMQSVMKFPIALAVLSEIDKGNLSFEQKIEITPQDLLPKTWSPIKEEFPNGTTLTIEQILNYTVSESDNIGCDILLKLIGGTDSVQKFLNANHFTDISIKANEEQMHKDWNTQYQNWATPTAMNKLLIDTYNNKNQLLSKKSYDFIWKIMRETTTGSNRLKGQLPKNTIVAHKTGTSGINNGIAAATNDVGVITLPNGQLIFISVFVAESKETSEINEKIISDIAKITWNYYLNK\",\n",
    "            'TLA-2': \"MNIKYFKFAEKFILLVLIMSFSSLAFCKSDDSLEQRINSIISGKKASVGVAVAGIEDNFSLSINGKKNFPMMSVYKLHIVLAVLNKVDGGSLKLDEKIPLNKKDLHPGTWSPLRDKYPNGGVSIPLSEIIEYTITQSDNNGCDILIALAGGTEAVKRYIISKGISDFDIRATEKECHESWNVQYSNWSTPVSAVALLKKFNDRKILSSVSTEYLMNVMIHTSTGNKRIKGLIPPSADVAHKTGTSGIRNGITPGTNDIGIVTLPNGKHFAIAVFVSDSRENNAANERIIAEISKAAWDYFVKMN\",\n",
    "            'CIA-1': \"MKKITFLLLMVSAFATAQKSVLDEKISAVIKDKKATVGVSVLGFENAFKYSKNGDKKLPLLSVFKFHLACAVLDMADKGKFSTDQKFLIKKSDLLENTWSPLREKFPEGNIELSLGEIITYTVAQSDNNTCDFLLRLIGGPQVVQHFMDSKGAKDLQIKYNEDDMHRDWKNQYGNESSTNATVSLLKKFYDGKLLTKKSTDFLMQIMLGTTTGTNKIVEQLPKSTPVAHKTGSSGKPDNILTVAENDMGIITLPNGKHYAIAVFVSNSTETEKVNTRMVSDISKIVWDNFNK\",\n",
    "            'CGA-1': \"LAQTSLLEQKINSILKNKKATVGVSVLGFENGFKYDKNGDKKLPMQSVFKFHIAAAVLNAVDQGKLSLHQKIMLNPSNLLENTWSPLRDKYPAGNVEIPLSEVIEYTVAKSDNNGCDILLRLLGGTQVVQKFMDSKGVKGFQIKYNEEDMHKDWNVQYENYSTTKSAADVLKKLYDGKLLSKKSTDYLMKVMLSTSTGLNKMVEQLPKNTPVARKTGASGKNNAGLTGAENEIGIVTLPNGKHYA\",\n",
    "            'CME-1': \"MKRISIIFLFFSLFVFSQHSKPELLEKINTITKGKKATVAVSVLGIENDFQFSNANGNLKMPMLSVFKFHIALAVLNQVDKGNLTLDQKILIKKSDLLENTWSPLREKYPDGNVELPLSEIITYTVAQSDNNGCDILLRLIGGTKTVQKLMDVNGIKNFQIKYNEEEMHKNDVKTLYANYTTTASMVKTLKAFYKGMFLSKRSTIFLMDIMTKTNTGMSKLPGLLPKVRMARKTGSSGKMKNGLTIAENDSGIVTLANGKHYAIAVFVKDSMESEEVNCGMIAQVSKIVWDALNKKINPNNKTERFVNSLIKK\",\n",
    "            'CSP-1': \"MKKLTQMKKLTQMKKYFSFCLLGIFIFCFSQQNLKRDITKIIQGKNALVAVSVMNSKGKTEVNINGNKKVPMLSVFKFHIALAVLDLVDRGILDLEQNIFVKKSELLENTWSPIRDKYPNGNVNIPLREIIEHTVSQSDNNGCDILLRLIGGVDTVQKFIESKGIKDFAIKYNEEEMNKNGKSIYSNYTTANASSRLLQKFYNGEIISESSRDFLFRIMYETSTGADRLISLLPPDVIVAHKTGTSGIVSGIQAATNDVGIIILPDDEYYTISVFVINSKENTSTNEKIIADISKTVWDYYFQNK\",\n",
    "            'SPU-1': \"MKKYFSFCLLGIFIFCFSQQNLKRDITKIIQGKNALVAVSVMNSKGKTEVNINGNKKVPMLSVFKFHIALAVLDLVDRGILDLEQNIFVKKSELLENTWSPIRDKYPNGNVNIPLREIIEHTVSQSDNNGCDILLRLIGGVDTVQKFIESKGIKDFAIKYNEEEMNKNGKSIYSNYTTANASSRLLQKFYNGEIISESSRDFLFRIMYETSTGADRLISLLPPDVIVAHKTGTSGIVSGIQAATNDVGIIILPDDEYYTISVFVINSKENTSTNEKIIADISKTVWDYYFQNK\",\n",
    "            'TLA-1': \"MTVPISIIFWGNIMKKHLVVIAFCVLFASASAFAAKGTDSLKSSIEKYLKDKKAKVGVAVLGIEDNFKLNVNEKHHYPMQSTYKFHLALAVLDKLDKENISIDKKLFVKKSELLPNTWSPLRDKYPDGNVDLSISEILKATVSRSDNNGCDILFRFVGGTNKVHNFISKLGVKNISIKATEEEMHKAWNVQYTNWTTPDATVQLLKKFYKNEILSKNSYDYLLNTMIETTTGPKRLKGLLPDGTVVAHKTGSSDTNDKGITAATNDIGIITLPNGKHFAIAVYVSDSSEKSDVNEKIIAEICKSVWDYLVKDGK\",\n",
    "            'CblA': \"MKAYFIAILTLFTCIATVVRAQQMSELENRIDSLLNGKKATVGIAVWTDKGDMLRYNDHVHFPLLSVFKFHVALAVLDKMDKQSISLDSIVSIKASQMPPNTYSPLRKKFPDQDFTITLRELMQYSISQSDNNACDILIEYAGGIKHINDYIHRLSIDSFNLSETEDGMHSSFEAVYRNWSTPSAMVRLLRTADEKELFSNKELKDFLWQTMIDTETGANKLKGMLPAKTVVGHKTGSSDRNADGMKTADNDAGLVILPDGRKYYIAAFVMDSYETDEDNANIIARISRMVYDAMR\",\n",
    "            'CfxA': \"MEKNRKKQIVVLSIALVCIFILVFSLFHKSATKDSANPPLTNVLTDSISQIVSACPGEIGVAVIVNNRDTVKVNNKSVYPMMSVFKVHQALALCNDFDNKGISLDTLVNINRDKLDPKTWSPMLKDYSGPVISLTVRDLLRYTLTQSDNNASNLMFKDMVNVAQTDSFIATLIPRSSFQIAYTEEEMSADHNKAYSNYTSPLGAAMLMNRLFTEGLIDDEKQSFIKNTLKECKTGVDRIAAPLLDKEGVVIAHKTGSGYVNENGVLAAHNDVAYICLPNNISYTLAVFVKDFKGNKSQASQYVAHISAVVYSLLMQTSVKS\",\n",
    "            'CepA': \"MQKRLIHLSIIFFLLCPALVVAQNSPLETQLKKAIEGKKAEIGIAVIIDGQDTITVNNDIHYPMMSVFKFHQALALADYMHHQKQPLKTRLLIKKSDLKPDTYSPLRETYPQGGIEMSIADLLKYTLQQSDNNACDILFNYQGGPDAVNKYLHSLGIRECAVIHTENDMHENLEFCYQNWTTPLAAAKLLEIFRNENLFDKEYKNFIYQTMVECQTGQDRLIAPLLDKKVTMGHKTGTGDRNAKGQQIGCNDIGFILLPDGHVYSIAVFVKDSEADNRENSEIIAEISRIVYEYVTQQID\"\n",
    "           }\n",
    "          }\n",
    "\n",
    "\n",
    "# Align single sequences to alignment using clustalo\n",
    "#from scripts.align_seq_to_profile import align\n",
    "\n",
    "import os\n",
    "import tempfile\n",
    "from Bio import SeqIO\n",
    "from Bio.Seq import Seq\n",
    "from Bio.SeqRecord import SeqRecord\n",
    "import subprocess\n",
    "from io import StringIO\n",
    "\n",
    "def align(seqs, profile_filename, output_filename):\n",
    "\n",
    "    records = []\n",
    "    for name,seq in seqs:\n",
    "        records.append(\n",
    "            SeqRecord(Seq(seq),\n",
    "                      id=name,\n",
    "                      description=\"\"))\n",
    "    \n",
    "    with tempfile.NamedTemporaryFile('w') as fp:\n",
    "        SeqIO.write(records, fp, \"fasta\")\n",
    "        fp.seek(0)\n",
    "\n",
    "        command = 'clustalo --profile1={} --in={} --out={} --force'.format(profile_filename, fp.name, output_filename)\n",
    "        os.system(command)\n",
    "\n",
    "do_alignment = False\n",
    "\n",
    "if do_alignment:\n",
    "    \n",
    "    aligned_seqs = []\n",
    "    for alignment_filename in ['BLAT_ECOLX_1_b0.5_labeled.fasta', 'BLAT_ECOLX_alignment_clustalo_maxalign.fasta']:\n",
    "\n",
    "        aligned_seqs.append({})\n",
    "        for blat_class in queries:\n",
    "\n",
    "            aligned_seqs[-1][blat_class] = {}\n",
    "\n",
    "            with tempfile.NamedTemporaryFile('w') as fp:\n",
    "                align(queries[blat_class].items(), \n",
    "                      alignment_filename,\n",
    "                      fp.name)\n",
    "\n",
    "                records_orig = np.array([[aa1_to_index[aa] for aa in str(record.seq).upper().replace('.','-')] \\\n",
    "                                         for record in SeqIO.parse(alignment_filename, \"fasta\")])\n",
    "                records = list(SeqIO.parse(fp.name, \"fasta\"))\n",
    "                records_queries = np.array([[aa1_to_index[aa] for aa in str(record.seq).upper()] \\\n",
    "                                            for record in records[:len(queries[blat_class])]])\n",
    "                records_profile = np.array([[aa1_to_index[aa] for aa in str(record.seq).upper()] \\\n",
    "                                            for record in records[len(queries[blat_class]):]])\n",
    "\n",
    "                # Remove gaps introduced in profile\n",
    "                index_orig = 0\n",
    "                index = 0\n",
    "                remove_indices = []\n",
    "                while index < records_profile.shape[1]:\n",
    "                    if index_orig < records_orig.shape[1] and (records_profile[:,index] == records_orig[:,index_orig]).all():\n",
    "                        index += 1\n",
    "                        index_orig += 1\n",
    "                        #print('index', index, \"match\", index_orig)\n",
    "                    else:\n",
    "                        remove_indices.append(index)\n",
    "                        index += 1\n",
    "                        #print('index', index, \"gap\", index_orig)\n",
    "                for remove_index in remove_indices[::-1]:\n",
    "                    records_queries = np.delete(records_queries, remove_index, axis=1)\n",
    "\n",
    "                records = []\n",
    "                for i,(name,query) in enumerate(queries[blat_class].items()):\n",
    "                    seq = \"\".join([aa1[aa] for aa in records_queries[i]])\n",
    "                    aligned_seqs[-1][blat_class] = seq\n",
    "                    records.append(\n",
    "                        SeqRecord(Seq(seq),\n",
    "                                  id=name,\n",
    "                                  description=\"\"))\n",
    "                with open(alignment_filename.replace('.fasta', '_{}.fasta'.format(blat_class)), \"w\") as output_handle:\n",
    "                    SeqIO.write(records, output_handle, \"fasta\")\n",
    "                \n",
    "else:\n",
    "    \n",
    "    if not os.path.exists('BLAT_ECOLX_1_b0.5_labeled_A1.fasta'):\n",
    "        !wget https://sid.erda.dk/share_redirect/a5PTfl88w0/BLAT_ECOLX_1_b0.5_labeled_A1.fasta\n",
    "    if not os.path.exists('BLAT_ECOLX_1_b0.5_labeled_A2.fasta'):\n",
    "        !wget https://sid.erda.dk/share_redirect/a5PTfl88w0/BLAT_ECOLX_1_b0.5_labeled_A2.fasta\n",
    "    if not os.path.exists('BLAT_ECOLX_alignment_clustalo_maxalign_A1.fasta'):\n",
    "        !wget https://sid.erda.dk/share_redirect/a5PTfl88w0/BLAT_ECOLX_alignment_clustalo_maxalign_A1.fasta\n",
    "    if not os.path.exists('BLAT_ECOLX_alignment_clustalo_maxalign_A2.fasta'):\n",
    "        !wget https://sid.erda.dk/share_redirect/a5PTfl88w0/BLAT_ECOLX_alignment_clustalo_maxalign_A2.fasta\n",
    "\n",
    "aligned_seqs = []\n",
    "for alignment_filename in ['BLAT_ECOLX_1_b0.5_labeled.fasta', 'BLAT_ECOLX_alignment_clustalo_maxalign.fasta']:\n",
    "    aligned_seqs.append({})\n",
    "    for blat_class in queries:\n",
    "        aligned_seqs[-1][blat_class] = {}\n",
    "        for record in SeqIO.parse(alignment_filename.replace('.fasta', '_{}.fasta'.format(blat_class)), \"fasta\"):\n",
    "            aligned_seqs[-1][blat_class][record.id] = str(record.seq)            "
   ]
  },
  {
   "cell_type": "markdown",
   "metadata": {},
   "source": [
    "# Training"
   ]
  },
  {
   "cell_type": "code",
   "execution_count": 4,
   "metadata": {},
   "outputs": [
    {
     "name": "stdout",
     "output_type": "stream",
     "text": [
      "7871\n",
      "6668\n"
     ]
    }
   ],
   "source": [
    "import numpy as np\n",
    "import pytorch_lightning as pl\n",
    "import torch\n",
    "import torch.nn.functional as F\n",
    "from Bio import SeqIO\n",
    "\n",
    "from models.vae_geometric import VAE, get_hparams, aa1_to_index, aa1\n",
    "\n",
    "def get_data(data_filename, test_filenames, calc_weights=True, add_test_to_train_set=True):\n",
    "    ids = []\n",
    "    seqs = []\n",
    "    for record in SeqIO.parse(data_filename, \"fasta\"):\n",
    "        ids.append(record.id)\n",
    "        seqs.append(np.array([aa1_to_index[aa] for aa in str(record.seq).upper().replace('.', '-')]))\n",
    "        \n",
    "    if add_test_to_train_set:\n",
    "        for query_filename in test_filenames:\n",
    "            for record in SeqIO.parse(query_filename, \"fasta\"):\n",
    "                ids.append(record.id)\n",
    "                seqs.append(np.array([aa1_to_index[aa] for aa in str(record.seq).upper().replace('.', '-')]))\n",
    "        \n",
    "    seqs = torch.from_numpy(np.vstack(seqs))\n",
    "\n",
    "    print(seqs.shape[0])\n",
    "    \n",
    "    weights = None\n",
    "    if calc_weights is not False:\n",
    "        one_hot = F.one_hot(seqs.long()).to('cuda' if torch.cuda.is_available() else 'cpu')\n",
    "        one_hot[seqs>19] = 0\n",
    "        flat_one_hot = one_hot.flatten(1)\n",
    "\n",
    "        weights = []\n",
    "        weight_batch_size = 1000\n",
    "        flat_one_hot = flat_one_hot.float()\n",
    "        for i in range(seqs.size(0) // weight_batch_size + 1):\n",
    "            x = flat_one_hot[i * weight_batch_size : (i + 1) * weight_batch_size]\n",
    "            similarities = torch.mm(x, flat_one_hot.T)\n",
    "            lengths = (seqs[i * weight_batch_size : (i + 1) * weight_batch_size] <=19).sum(1).unsqueeze(-1).to('cuda' if torch.cuda.is_available() else 'cpu')\n",
    "            w = 1.0 / (similarities / lengths).gt(0.8).sum(1).float()\n",
    "            weights.append(w)\n",
    "\n",
    "        weights = torch.cat(weights)\n",
    "        neff = weights.sum()\n",
    "\n",
    "    return seqs, weights\n",
    "\n",
    "data_query_centric, weights_query_centric = get_data('BLAT_ECOLX_1_b0.5_labeled.fasta', \n",
    "                                                     test_filenames=['BLAT_ECOLX_1_b0.5_labeled_A1.fasta', 'BLAT_ECOLX_1_b0.5_labeled_A2.fasta'],\n",
    "                                                     calc_weights=True,\n",
    "                                                     add_test_to_train_set=True)\n",
    "data_realigned, weights_realigned = get_data('BLAT_ECOLX_alignment_clustalo_maxalign.fasta', \n",
    "                                             test_filenames=['BLAT_ECOLX_alignment_clustalo_maxalign_A1.fasta', 'BLAT_ECOLX_alignment_clustalo_maxalign_A2.fasta'],\n",
    "                                             calc_weights=True,\n",
    "                                             add_test_to_train_set=True)"
   ]
  },
  {
   "cell_type": "code",
   "execution_count": 5,
   "metadata": {},
   "outputs": [],
   "source": [
    "import time\n",
    "\n",
    "def train_or_retrieve_model(name, data, weights, train_model, post_train_encoder=False):\n",
    "    \n",
    "    cmd_args = []\n",
    "    if train_model:\n",
    "        cmd_args += ['-gpu', '1' if torch.cuda.is_available() else '']\n",
    "    else:\n",
    "        cmd_args += ['-load_from', name+'.ckpt', '-gpu', '1' if torch.cuda.is_available() else '']\n",
    "    hparams = get_hparams(cmd_args)\n",
    "\n",
    "    pl.seed_everything(hparams.seed)\n",
    "\n",
    "    perm = np.random.permutation(data.shape[0])\n",
    "    \n",
    "    if hparams.load_from!='':\n",
    "        \n",
    "        if not os.path.exists(hparams.load_from):\n",
    "            filename = os.path.join('https://sid.erda.dk/share_redirect/a5PTfl88w0/', hparams.load_from)\n",
    "            !wget $filename\n",
    "        \n",
    "        print('Loading from checkpoint!')\n",
    "        model = VAE.load_from_checkpoint(checkpoint_path=hparams.load_from, data=data, perm=perm, weights=weights)\n",
    "\n",
    "        # for some reason these where not correctly saved in the checkpoint\n",
    "        model.switch = True\n",
    "        \n",
    "        # Trigger retraining of distnet, since this does not seem to be saved properly in checkpoint\n",
    "        model.distnet.initialized = False\n",
    "        \n",
    "        # Model fit specific parameter setting the temperature of the uncertainty\n",
    "        model.distnet.trans.beta.data = torch.tensor([-4.1])\n",
    "        \n",
    "    else:\n",
    "        print('Training model!')\n",
    "        model = VAE(data=data, weights=weights, perm=perm, hparams=hparams)\n",
    "        trainer = pl.Trainer(gpus=1 if hparams.gpu else 0,\n",
    "                             max_epochs=hparams.epochs)\n",
    "        trainer.fit(model)\n",
    "        \n",
    "        trainer.save_checkpoint(name+'_{}.ckpt'.format(time.strftime(\"%Y%m%d\")))\n",
    "\n",
    "    if post_train_encoder:\n",
    "        model._train_encoder_only=True\n",
    "        trainer = pl.Trainer(gpus=1 if hparams.gpu else 0, max_epochs=20, logger=False)\n",
    "        trainer.fit(model, model.train_dataloader())  # passing it along to make sure it is not cached\n",
    "\n",
    "        trainer.save_checkpoint(name+'_posttrained_{}.ckpt'.format(time.strftime(\"%Y%m%d\")))\n",
    "\n",
    "    return model"
   ]
  },
  {
   "cell_type": "code",
   "execution_count": 6,
   "metadata": {},
   "outputs": [
    {
     "name": "stderr",
     "output_type": "stream",
     "text": [
      "GPU available: False, used: False\n",
      "TPU available: None, using: 0 TPU cores\n",
      "\n",
      "  | Name          | Type             | Params\n",
      "---------------------------------------------------\n",
      "0 | encoder       | Sequential       | 11.3 M\n",
      "1 | encoder_mu    | Linear           | 3.0 K \n",
      "2 | encoder_scale | Sequential       | 3.0 K \n",
      "3 | decoder       | Sequential       | 3.1 M \n",
      "4 | loss_fn       | CrossEntropyLoss | 0     \n",
      "5 | distnet       | DistNet          | 401   \n",
      "---------------------------------------------------\n",
      "14.4 M    Trainable params\n",
      "400       Non-trainable params\n",
      "14.4 M    Total params\n"
     ]
    },
    {
     "name": "stdout",
     "output_type": "stream",
     "text": [
      "Loading from checkpoint!\n",
      "only training encoder\n"
     ]
    },
    {
     "name": "stderr",
     "output_type": "stream",
     "text": [
      "/Users/wb/opt/miniconda3/lib/python3.8/site-packages/pytorch_lightning/utilities/distributed.py:49: UserWarning: The dataloader, val dataloader 0, does not have many workers which may be a bottleneck. Consider increasing the value of the `num_workers` argument` (try 8 which is the number of cpus on this machine) in the `DataLoader` init to improve performance.\n",
      "  warnings.warn(*args, **kwargs)\n"
     ]
    },
    {
     "data": {
      "application/vnd.jupyter.widget-view+json": {
       "model_id": "",
       "version_major": 2,
       "version_minor": 0
      },
      "text/plain": [
       "HBox(children=(FloatProgress(value=1.0, bar_style='info', description='Validation sanity check', layout=Layout…"
      ]
     },
     "metadata": {},
     "output_type": "display_data"
    },
    {
     "name": "stderr",
     "output_type": "stream",
     "text": [
      "/Users/wb/opt/miniconda3/lib/python3.8/site-packages/pytorch_lightning/utilities/distributed.py:49: UserWarning: The dataloader, train dataloader, does not have many workers which may be a bottleneck. Consider increasing the value of the `num_workers` argument` (try 8 which is the number of cpus on this machine) in the `DataLoader` init to improve performance.\n",
      "  warnings.warn(*args, **kwargs)\n"
     ]
    },
    {
     "data": {
      "application/vnd.jupyter.widget-view+json": {
       "model_id": "ec261e466fe240d49a7f74890d71edeb",
       "version_major": 2,
       "version_minor": 0
      },
      "text/plain": [
       "HBox(children=(FloatProgress(value=1.0, bar_style='info', description='Training', layout=Layout(flex='2'), max…"
      ]
     },
     "metadata": {},
     "output_type": "display_data"
    },
    {
     "data": {
      "application/vnd.jupyter.widget-view+json": {
       "model_id": "",
       "version_major": 2,
       "version_minor": 0
      },
      "text/plain": [
       "HBox(children=(FloatProgress(value=1.0, bar_style='info', description='Validating', layout=Layout(flex='2'), m…"
      ]
     },
     "metadata": {},
     "output_type": "display_data"
    },
    {
     "data": {
      "application/vnd.jupyter.widget-view+json": {
       "model_id": "",
       "version_major": 2,
       "version_minor": 0
      },
      "text/plain": [
       "HBox(children=(FloatProgress(value=1.0, bar_style='info', description='Validating', layout=Layout(flex='2'), m…"
      ]
     },
     "metadata": {},
     "output_type": "display_data"
    },
    {
     "data": {
      "application/vnd.jupyter.widget-view+json": {
       "model_id": "",
       "version_major": 2,
       "version_minor": 0
      },
      "text/plain": [
       "HBox(children=(FloatProgress(value=1.0, bar_style='info', description='Validating', layout=Layout(flex='2'), m…"
      ]
     },
     "metadata": {},
     "output_type": "display_data"
    },
    {
     "data": {
      "application/vnd.jupyter.widget-view+json": {
       "model_id": "",
       "version_major": 2,
       "version_minor": 0
      },
      "text/plain": [
       "HBox(children=(FloatProgress(value=1.0, bar_style='info', description='Validating', layout=Layout(flex='2'), m…"
      ]
     },
     "metadata": {},
     "output_type": "display_data"
    },
    {
     "data": {
      "application/vnd.jupyter.widget-view+json": {
       "model_id": "",
       "version_major": 2,
       "version_minor": 0
      },
      "text/plain": [
       "HBox(children=(FloatProgress(value=1.0, bar_style='info', description='Validating', layout=Layout(flex='2'), m…"
      ]
     },
     "metadata": {},
     "output_type": "display_data"
    },
    {
     "data": {
      "application/vnd.jupyter.widget-view+json": {
       "model_id": "",
       "version_major": 2,
       "version_minor": 0
      },
      "text/plain": [
       "HBox(children=(FloatProgress(value=1.0, bar_style='info', description='Validating', layout=Layout(flex='2'), m…"
      ]
     },
     "metadata": {},
     "output_type": "display_data"
    },
    {
     "data": {
      "application/vnd.jupyter.widget-view+json": {
       "model_id": "",
       "version_major": 2,
       "version_minor": 0
      },
      "text/plain": [
       "HBox(children=(FloatProgress(value=1.0, bar_style='info', description='Validating', layout=Layout(flex='2'), m…"
      ]
     },
     "metadata": {},
     "output_type": "display_data"
    },
    {
     "data": {
      "application/vnd.jupyter.widget-view+json": {
       "model_id": "",
       "version_major": 2,
       "version_minor": 0
      },
      "text/plain": [
       "HBox(children=(FloatProgress(value=1.0, bar_style='info', description='Validating', layout=Layout(flex='2'), m…"
      ]
     },
     "metadata": {},
     "output_type": "display_data"
    },
    {
     "data": {
      "application/vnd.jupyter.widget-view+json": {
       "model_id": "",
       "version_major": 2,
       "version_minor": 0
      },
      "text/plain": [
       "HBox(children=(FloatProgress(value=1.0, bar_style='info', description='Validating', layout=Layout(flex='2'), m…"
      ]
     },
     "metadata": {},
     "output_type": "display_data"
    },
    {
     "data": {
      "application/vnd.jupyter.widget-view+json": {
       "model_id": "",
       "version_major": 2,
       "version_minor": 0
      },
      "text/plain": [
       "HBox(children=(FloatProgress(value=1.0, bar_style='info', description='Validating', layout=Layout(flex='2'), m…"
      ]
     },
     "metadata": {},
     "output_type": "display_data"
    },
    {
     "data": {
      "application/vnd.jupyter.widget-view+json": {
       "model_id": "",
       "version_major": 2,
       "version_minor": 0
      },
      "text/plain": [
       "HBox(children=(FloatProgress(value=1.0, bar_style='info', description='Validating', layout=Layout(flex='2'), m…"
      ]
     },
     "metadata": {},
     "output_type": "display_data"
    },
    {
     "data": {
      "application/vnd.jupyter.widget-view+json": {
       "model_id": "",
       "version_major": 2,
       "version_minor": 0
      },
      "text/plain": [
       "HBox(children=(FloatProgress(value=1.0, bar_style='info', description='Validating', layout=Layout(flex='2'), m…"
      ]
     },
     "metadata": {},
     "output_type": "display_data"
    },
    {
     "data": {
      "application/vnd.jupyter.widget-view+json": {
       "model_id": "",
       "version_major": 2,
       "version_minor": 0
      },
      "text/plain": [
       "HBox(children=(FloatProgress(value=1.0, bar_style='info', description='Validating', layout=Layout(flex='2'), m…"
      ]
     },
     "metadata": {},
     "output_type": "display_data"
    },
    {
     "data": {
      "application/vnd.jupyter.widget-view+json": {
       "model_id": "",
       "version_major": 2,
       "version_minor": 0
      },
      "text/plain": [
       "HBox(children=(FloatProgress(value=1.0, bar_style='info', description='Validating', layout=Layout(flex='2'), m…"
      ]
     },
     "metadata": {},
     "output_type": "display_data"
    },
    {
     "data": {
      "application/vnd.jupyter.widget-view+json": {
       "model_id": "",
       "version_major": 2,
       "version_minor": 0
      },
      "text/plain": [
       "HBox(children=(FloatProgress(value=1.0, bar_style='info', description='Validating', layout=Layout(flex='2'), m…"
      ]
     },
     "metadata": {},
     "output_type": "display_data"
    },
    {
     "data": {
      "application/vnd.jupyter.widget-view+json": {
       "model_id": "",
       "version_major": 2,
       "version_minor": 0
      },
      "text/plain": [
       "HBox(children=(FloatProgress(value=1.0, bar_style='info', description='Validating', layout=Layout(flex='2'), m…"
      ]
     },
     "metadata": {},
     "output_type": "display_data"
    },
    {
     "data": {
      "application/vnd.jupyter.widget-view+json": {
       "model_id": "",
       "version_major": 2,
       "version_minor": 0
      },
      "text/plain": [
       "HBox(children=(FloatProgress(value=1.0, bar_style='info', description='Validating', layout=Layout(flex='2'), m…"
      ]
     },
     "metadata": {},
     "output_type": "display_data"
    },
    {
     "data": {
      "application/vnd.jupyter.widget-view+json": {
       "model_id": "",
       "version_major": 2,
       "version_minor": 0
      },
      "text/plain": [
       "HBox(children=(FloatProgress(value=1.0, bar_style='info', description='Validating', layout=Layout(flex='2'), m…"
      ]
     },
     "metadata": {},
     "output_type": "display_data"
    },
    {
     "data": {
      "application/vnd.jupyter.widget-view+json": {
       "model_id": "",
       "version_major": 2,
       "version_minor": 0
      },
      "text/plain": [
       "HBox(children=(FloatProgress(value=1.0, bar_style='info', description='Validating', layout=Layout(flex='2'), m…"
      ]
     },
     "metadata": {},
     "output_type": "display_data"
    },
    {
     "data": {
      "application/vnd.jupyter.widget-view+json": {
       "model_id": "",
       "version_major": 2,
       "version_minor": 0
      },
      "text/plain": [
       "HBox(children=(FloatProgress(value=1.0, bar_style='info', description='Validating', layout=Layout(flex='2'), m…"
      ]
     },
     "metadata": {},
     "output_type": "display_data"
    },
    {
     "name": "stdout",
     "output_type": "stream",
     "text": [
      "\n"
     ]
    }
   ],
   "source": [
    "# Options\n",
    "train_models = False\n",
    "\n",
    "model_qc   = train_or_retrieve_model('model_BLAT_ECOLX_query_centric', \n",
    "                                     data_query_centric,\n",
    "                                     weights=None,\n",
    "                                     train_model=train_models, \n",
    "                                     post_train_encoder=True)\n",
    "model_qc_r = train_or_retrieve_model('model_BLAT_ECOLX_query_centric_reweighted', \n",
    "                                     data_query_centric,\n",
    "                                     weights=weights_query_centric,\n",
    "                                     train_model=train_models, \n",
    "                                     post_train_encoder=True)\n",
    "model_ra   = train_or_retrieve_model('model_BLAT_ECOLX_realigned', \n",
    "                                     data_realigned,\n",
    "                                     weights=None,\n",
    "                                     train_model=train_models, \n",
    "                                     post_train_encoder=True)\n",
    "model_ra_r = train_or_retrieve_model('model_BLAT_ECOLX_realigned_reweighted',\n",
    "                                     data_realigned,\n",
    "                                     weights=weights_realigned,\n",
    "                                     train_model=train_models, \n",
    "                                     post_train_encoder=True)\n",
    "models = [model_qc, model_qc_r, model_ra, model_ra_r]"
   ]
  },
  {
   "cell_type": "markdown",
   "metadata": {},
   "source": [
    "# Alignment & embedding"
   ]
  },
  {
   "cell_type": "code",
   "execution_count": 10,
   "metadata": {},
   "outputs": [],
   "source": [
    "embeddings = []\n",
    "for model in models:\n",
    "    embeddings.append([])\n",
    "    batchsize = 16\n",
    "    n_batch = int(np.ceil(model.data.shape[0] / batchsize))\n",
    "    for b in range(n_batch):\n",
    "        batch = model.data[b*batchsize:(b+1)*batchsize]\n",
    "        zs = model.embedding(batch.long().to(model._device))\n",
    "        embeddings[-1].append(zs.detach())\n",
    "    embeddings[-1] = np.vstack(embeddings[-1])"
   ]
  },
  {
   "cell_type": "code",
   "execution_count": 7,
   "metadata": {},
   "outputs": [],
   "source": [
    "from scripts.needleman_wunsch import needleman_wunsch_align\n",
    "\n",
    "def calculate_marginal_x_dist(model):\n",
    "\n",
    "    data = model.data\n",
    "\n",
    "    x_dist_marginal = np.zeros([len(aa1_to_index), data.shape[-1]])\n",
    "    x_dist_obs = 0\n",
    "\n",
    "    batchsize = 16\n",
    "    n_batch = int(np.ceil(data.shape[0] / batchsize))\n",
    "    for b in range(n_batch):\n",
    "        batch = data[b*batchsize:(b+1)*batchsize]\n",
    "        zs = model.embedding(batch.long().to(model._device))\n",
    "        x_dist_marginal += model.decode(zs, as_probs=True).sum(dim=0).detach().cpu().numpy()\n",
    "        x_dist_obs += batchsize\n",
    "\n",
    "    x_dist_marginal /= x_dist_obs\n",
    "    x_dist_marginal = x_dist_marginal.transpose()\n",
    "    x_dist_marginal = torch.from_numpy(x_dist_marginal).squeeze()\n",
    "    \n",
    "    return x_dist_marginal\n",
    "\n",
    "def align(query, potentials, gaps):\n",
    "\n",
    "    decoded = needleman_wunsch_align(potentials, gaps)  \n",
    "    pred_x, pred_y, pred_states = zip(*decoded)\n",
    "\n",
    "    aligned_query = query[np.array(pred_y)]\n",
    "    aligned_query[np.array(pred_states)==0] = 22\n",
    "    aligned_query = aligned_query[np.array(pred_states)!=2]\n",
    "\n",
    "    # FIXME: This operation means the indices in pred_y are potentially shifted, which means they are not super useful.\n",
    "    pred_y = np.array(pred_y)\n",
    "    pred_y = pred_y[np.array(pred_states)!=2]\n",
    "\n",
    "    assert len(pred_y) == len(aligned_query)\n",
    "\n",
    "    return aligned_query, pred_y\n",
    "\n",
    "\n",
    "def align_to_vae(model, query, initial_x_dist, iterations=10, verbose=False):\n",
    "\n",
    "    x_dist = initial_x_dist.clone().detach()\n",
    "\n",
    "    # Iterate until convergence: \n",
    "    # 1) Align to x_dist, \n",
    "    # 2) Encode query to get new z\n",
    "    # 3) Get new x_dist from z\n",
    "    for i in range(iterations):\n",
    "\n",
    "        gap_score = -30\n",
    "        gaps = torch.ones(2, x_dist.shape[0], len(query)).to(model._device)*gap_score\n",
    "\n",
    "        match = torch.zeros(x_dist.shape[0], len(query)).to(model._device)\n",
    "        for j, aa in enumerate(query):\n",
    "            match[:,j] = x_dist[:,int(aa)].log()\n",
    "            gaps[0,:,j] = x_dist[:, 22].log()\n",
    "\n",
    "        aligned_query, idx_map = align(query, match, gaps)\n",
    "\n",
    "        x = torch.nn.functional.one_hot(torch.from_numpy(np.array(aligned_query)).unsqueeze(0).to(model._device), \n",
    "                                  len(aa1_to_index))\n",
    "        h = model.encoder(x.float().reshape(x.shape[0], -1))\n",
    "        z = model.encoder_mu(h)\n",
    "        z_s = model.encoder_scale(h)\n",
    "        # z = model.embedding(torch.from_numpy(np.array(aligned_query)).unsqueeze(0).to(model._device))\n",
    "\n",
    "        if verbose:\n",
    "            print(\"z: \", z.detach().cpu().numpy())\n",
    "\n",
    "        x_dist = model.decode(z, as_probs=True).detach().cpu().squeeze().permute(1,0)\n",
    "\n",
    "    return aligned_query.detach(), z.detach(), z_s.detach(), x_dist.detach(), np.array(idx_map)"
   ]
  },
  {
   "cell_type": "code",
   "execution_count": 18,
   "metadata": {},
   "outputs": [
    {
     "name": "stdout",
     "output_type": "stream",
     "text": [
      "TEM-1 [[ 3.1542375 -2.8997898]]\n",
      "SHV-1 [[ 4.368671  -1.8834933]]\n",
      "PSE-1 [[ 1.4092681  -0.78894013]]\n",
      "RTG-2 [[ 1.2876719  -0.47094482]]\n",
      "CumA [[-0.22810584 -2.106907  ]]\n",
      "OXY-1 [[ 0.1412745 -2.0357287]]\n",
      "KLUA-1 [[ 0.3081596 -3.0134706]]\n",
      "CTX-M-1 [[ 0.24906723 -3.59184   ]]\n",
      "NMCA [[1.9873762 1.7527044]]\n",
      "SME-1 [[1.770202  1.4852384]]\n",
      "KPC-2 [[-0.2650861   0.04376894]]\n",
      "GES-1 [[ 0.18979184 -0.4237894 ]]\n",
      "BEL-1 [[ 0.46839768 -0.2039267 ]]\n",
      "BPS-1 [[2.6379182  0.88596016]]\n",
      "PER-1 [[-0.7632216 -1.9494683]]\n",
      "CEF-1 [[-0.8778716  1.9396509]]\n",
      "VEB-1 [[-0.8778716  1.9396509]]\n",
      "TLA-2 [[-0.70328563 -1.8347261 ]]\n",
      "CIA-1 [[-0.8005898  2.6553936]]\n",
      "CGA-1 [[-0.47220975  2.0537782 ]]\n",
      "CME-1 [[-0.72813076 -1.807651  ]]\n",
      "CSP-1 [[-0.66316915 -1.7618374 ]]\n",
      "SPU-1 [[-0.66316915 -1.7618374 ]]\n",
      "TLA-1 [[-0.3375715 -1.0407594]]\n",
      "CblA [[-0.31559312  0.01717686]]\n",
      "CfxA [[-0.74305236 -1.8693565 ]]\n",
      "CepA [[-0.70758474 -1.7988253 ]]\n",
      "TEM-1 [[ 3.1542375 -2.8997898]]\n",
      "SHV-1 [[ 4.368671  -1.8834933]]\n",
      "PSE-1 [[ 1.4092681  -0.78894013]]\n",
      "RTG-2 [[ 1.2876719  -0.47094482]]\n",
      "CumA [[-0.22810584 -2.106907  ]]\n",
      "OXY-1 [[ 0.1412745 -2.0357287]]\n",
      "KLUA-1 [[ 0.3081596 -3.0134706]]\n",
      "CTX-M-1 [[ 0.24906723 -3.59184   ]]\n",
      "NMCA [[1.9873762 1.7527044]]\n",
      "SME-1 [[1.770202  1.4852384]]\n",
      "KPC-2 [[-0.2650861   0.04376894]]\n",
      "GES-1 [[ 0.18979184 -0.4237894 ]]\n",
      "BEL-1 [[ 0.46839768 -0.2039267 ]]\n",
      "BPS-1 [[2.6379182  0.88596016]]\n",
      "PER-1 [[-0.7632216 -1.9494683]]\n",
      "CEF-1 [[-0.8778716  1.9396509]]\n",
      "VEB-1 [[-0.8778716  1.9396509]]\n",
      "TLA-2 [[-0.70328563 -1.8347261 ]]\n",
      "CIA-1 [[-0.8005898  2.6553936]]\n",
      "CGA-1 [[-0.47220975  2.0537782 ]]\n",
      "CME-1 [[-0.72813076 -1.807651  ]]\n",
      "CSP-1 [[-0.66316915 -1.7618374 ]]\n",
      "SPU-1 [[-0.66316915 -1.7618374 ]]\n",
      "TLA-1 [[-0.3375715 -1.0407594]]\n",
      "CblA [[-0.31559312  0.01717686]]\n",
      "CfxA [[-0.74305236 -1.8693565 ]]\n",
      "CepA [[-0.70758474 -1.7988253 ]]\n"
     ]
    }
   ],
   "source": [
    "alignment_to_model = True    # We can align either to the model, or we can use pre-aligned sequences that were aligned using a multiple sequence alignment algorithm\n",
    "\n",
    "results = {}\n",
    "observables = [\"z\", \"x_dist\", \"recon_acc\", \"recon_gapped_acc\", \"gap_fraction\"]\n",
    "for observable in observables:\n",
    "    results[observable] = []\n",
    "\n",
    "for model,aln_idx in zip(models, [0,0,1,1]):\n",
    "\n",
    "    for observable in results.keys():\n",
    "        results[observable].append({})    \n",
    "\n",
    "    x_dist_marginal = None\n",
    "    if alignment_to_model:\n",
    "        x_dist_marginal = calculate_marginal_x_dist(model)\n",
    "    \n",
    "    for blat_class in queries:\n",
    "\n",
    "        for observable in results.keys():\n",
    "            results[observable][-1][blat_class] = []\n",
    "\n",
    "        for query_name in queries[blat_class]:\n",
    "            \n",
    "            if alignment_to_model:\n",
    "                unaligned_query = queries[blat_class][query_name]\n",
    "                query_tensor = torch.from_numpy(np.array([aa1_to_index[aa] for aa in str(unaligned_query).upper()]))\n",
    "                query_tensor = query_tensor[query_tensor != 22]\n",
    "                query, z, z_s, x_dist, idx_map = align_to_vae(model, query_tensor, x_dist_marginal, iterations=50)\n",
    "                # print(torch.nn.CrossEntropyLoss(reduction='none')(x_dist.unsqueeze(0).permute(0,2,1), aligned_query.unsqueeze(0)).sum())\n",
    "                #print((x_dist.argmax(dim=-1) == aligned_query)[aligned_query!=aa1_to_index['-']].float().mean())\n",
    "            else:\n",
    "                query = aligned_seqs[aln_idx][blat_class][query_name]\n",
    "                query_tensor = torch.from_numpy(np.array([aa1_to_index[aa] for aa in str(query).upper()])).unsqueeze(0)\n",
    "                z = model.embedding(query_tensor.long().to(model._device)).detach().cpu().numpy()\n",
    "                x_dist = model.decode(z, as_probs=True).detach().cpu().squeeze().permute(1,0).numpy()\n",
    "\n",
    "            recon_gapped_acc = (x_dist.argmax(dim=-1) == query).float().mean()\n",
    "            recon_acc = (x_dist.argmax(dim=-1) == query)[query!=aa1_to_index['-']].float().mean()\n",
    "            gap_fraction = 1-(query!=aa1_to_index['-']).float().mean()\n",
    "\n",
    "            print(query_name, z, recon_gapped_acc, recon_acc, gap_fraction)\n",
    "            \n",
    "            values = [z, x_dist, recon_acc, recon_gapped_acc, gap_fraction]\n",
    "            for idx, observable in enumerate(observables):\n",
    "                results[observable][-1][blat_class].append(values[idx])\n",
    "\n",
    "        for idx, observable in enumerate(results.keys()):\n",
    "            results[observable][-1][blat_class] = np.vstack(results[observable][-1][blat_class])\n"
   ]
  },
  {
   "cell_type": "markdown",
   "metadata": {},
   "source": [
    "# Experiment 7 plot"
   ]
  },
  {
   "cell_type": "code",
   "execution_count": 19,
   "metadata": {},
   "outputs": [
    {
     "data": {
      "image/png": "[encoded data removed]",
      "text/plain": [
       "<Figure size 432x432 with 4 Axes>"
      ]
     },
     "metadata": {
      "needs_background": "light"
     },
     "output_type": "display_data"
    }
   ],
   "source": [
    "import matplotlib.pyplot as plt\n",
    "\n",
    "titles = [\"query-centric\",\"full alignment\",\"no reweighting\",\"density reweighting\"]\n",
    "\n",
    "fig, ax = plt.subplots(2, 2, figsize=(4*3/2,4*3/2), sharex=True, sharey=True)\n",
    "plt.subplots_adjust(wspace=0.02, hspace=0.02, left=0.06, right=0.95, bottom=0.06, top=0.95)\n",
    "\n",
    "ax[0,1].yaxis.set_label_position('right')\n",
    "ax[0,1].set_ylabel(titles[0], rotation=270, labelpad=13, fontsize=12)\n",
    "ax[1,1].yaxis.set_label_position('right')\n",
    "ax[1,1].set_ylabel(titles[1], rotation=270, labelpad=13, fontsize=12)\n",
    "ax[0,0].xaxis.set_label_position('top')\n",
    "ax[0,0].set_xlabel(titles[2], fontsize=12)\n",
    "ax[0,1].xaxis.set_label_position('top')\n",
    "ax[0,1].set_xlabel(titles[3], fontsize=12)\n",
    "\n",
    "labels = ['a', 'b', 'c', 'd']\n",
    "\n",
    "blue = np.array([.13, .35, .61])\n",
    "green = np.array([.25, .73, .28])\n",
    "yellow = np.array([254,192,113])/255.0\n",
    "purple = [.42, .16, .42]\n",
    "\n",
    "for k, model in enumerate(models):\n",
    "    \n",
    "    i = k//2\n",
    "    j = k%2\n",
    "\n",
    "    embedded = embeddings[k]\n",
    "    a1_zs = zs[k]['A1']\n",
    "    a2_zs = zs[k]['A2']\n",
    "    \n",
    "    ax[i,j].axvline(x=0, color='0.95', zorder=0, lw=1)\n",
    "    ax[i,j].axhline(y=0, color='0.95', zorder=0, lw=1)\n",
    "    ax[i,j].plot(embedded[:,0],\n",
    "               embedded[:,1],\n",
    "               '.', color='0.8', markersize=5, alpha=0.5, zorder=1)\n",
    "    ax[i,j].scatter(a1_zs[:,0], a1_zs[:,1], color=green, s=60, zorder=2, edgecolors='black', alpha=1.0)\n",
    "    ax[i,j].scatter(a2_zs[:,0], a2_zs[:,1], color=yellow, s=60, zorder=2, edgecolors='black', alpha=1.0)\n",
    "    ax[i,j].set_xticks([])\n",
    "    ax[i,j].set_yticks([])\n",
    "    ax[i,j].set_xticks([-5, 0, 5])\n",
    "    ax[i,j].set_yticks([-5, 0, 5])\n",
    "    ax[i,j].set_xlim([-8,8])\n",
    "    ax[i,j].set_ylim([-8,8])\n",
    "    ax[i,j].set(aspect='equal')\n",
    "    ax[i,j].tick_params(axis='both', which='major', labelsize=12)\n",
    "    ax[i,j].text(0.04, 0.96, labels[k], transform=ax[i,j].transAxes, fontweight='bold', fontsize=10, verticalalignment='top')\n",
    "\n",
    "plt.savefig('embeddings.svg')"
   ]
  },
  {
   "cell_type": "code",
   "execution_count": null,
   "metadata": {},
   "outputs": [],
   "source": [
    "def set_box_color(bp, color):\n",
    "    plt.setp(bp['boxes'], color=color)\n",
    "    plt.setp(bp['whiskers'], color=color)\n",
    "    plt.setp(bp['caps'], color=color)\n",
    "    plt.setp(bp['medians'], color=color)\n",
    "\n",
    "fig_observations = [\"recon_acc\", \"gapped_recon_acc\", \"gapped_fraction\"]\n",
    "\n",
    "ticks = ['query-centric', 'query-centric-reweighted', 'full-alignment', 'full-alignment-reweighted']\n",
    "\n",
    "fig, ax = plt.subplots(len(fig_observations), 1, figsize=(8,4*3/2), sharex=True)\n",
    "plt.xlim(-2, len(ticks)*2)\n",
    "\n",
    "for i,observation in enumerate(fig_observations):\n",
    "\n",
    "    plot_data = {}\n",
    "    for cls in [\"A1\", \"A2\"]:\n",
    "    plot_data[cls] = [] \n",
    "    for j,model in enumerate(models):\n",
    "        plot_data[cls].append(results[observation][j][cls].squeeze())\n",
    "\n",
    "    bpl = ax[i].boxplot(plot_data[\"A1\"], positions=np.array(range(len(plot_data[\"A1\"])))*2.0-0.3, sym='', widths=0.4)\n",
    "    bpr = ax[i].boxplot(plot_data[\"A2\"], positions=np.array(range(len(plot_data[\"A2\"])))*2.0+0.3, sym='', widths=0.4)\n",
    "\n",
    "    set_box_color(bpl, '#D7191C') # colors are from http://colorbrewer2.org/\n",
    "    set_box_color(bpr, '#2C7BB6')\n",
    "\n",
    "    # draw temporary red and blue lines and use them to create a legend\n",
    "    ax[i].plot([], c='#D7191C', label='A1')\n",
    "    ax[i].plot([], c='#2C7BB6', label='A2')\n",
    "    ax[i].legend()\n",
    "\n",
    "    ax[i].set_ylim(0, 1.2)\n",
    "    ax[i].set_xticks(range(0, len(ticks) * 2, 2))\n",
    "    ax[i].set_xticklabels(ticks, rotation=90)\n",
    "\n",
    "    ax[i].set_title(observation)\n",
    "  #plt.tight_layout()\n",
    "#plt.savefig('boxcompare.png')\n"
   ]
  },
  {
   "cell_type": "code",
   "execution_count": 7,
   "metadata": {},
   "outputs": [],
   "source": []
  },
  {
   "cell_type": "code",
   "execution_count": 11,
   "metadata": {},
   "outputs": [
    {
     "name": "stdout",
     "output_type": "stream",
     "text": [
      "TEM-1 [[ 2.323343  -1.6218534]]\n",
      "SHV-1 [[ 2.8479755 -1.1260102]]\n",
      "PSE-1 [[ 1.3167921  -0.81102455]]\n",
      "RTG-2 [[ 1.1332763  -0.44863436]]\n",
      "CumA [[-0.1678461 -1.6679051]]\n",
      "OXY-1 [[ 0.19450644 -2.0291195 ]]\n",
      "KLUA-1 [[ 0.23676045 -2.7030418 ]]\n",
      "CTX-M-1 [[ 0.22804488 -2.7772377 ]]\n",
      "NMCA [[1.7855356 1.466688 ]]\n",
      "SME-1 [[1.6792433 1.2856102]]\n",
      "KPC-2 [[2.6887043 1.7771575]]\n",
      "GES-1 [[ 0.16156362 -0.42107376]]\n",
      "BEL-1 [[ 0.43096983 -0.1850293 ]]\n",
      "BPS-1 [[2.5517848 0.8708377]]\n",
      "PER-1 [[-0.5685355 -1.6466876]]\n",
      "CEF-1 [[-0.93033975  1.9316306 ]]\n",
      "VEB-1 [[-0.93033975  1.9316306 ]]\n",
      "TLA-2 [[-0.3454812 -1.195118 ]]\n",
      "CIA-1 [[-0.5239339 -1.677571 ]]\n",
      "CGA-1 [[-0.14453173 -0.84318906]]\n",
      "CME-1 [[-0.48088452 -1.5213181 ]]\n",
      "CSP-1 [[-0.50156087 -1.5135579 ]]\n",
      "SPU-1 [[-0.50156087 -1.5135579 ]]\n",
      "TLA-1 [[ 0.27679425 -0.93065614]]\n",
      "CblA [[-0.5663923 -1.5950718]]\n",
      "CfxA [[-0.48897067 -1.4770286 ]]\n",
      "CepA [[-0.45440245 -1.4328387 ]]\n",
      "TEM-1 [[-1.5247543 -3.8688257]]\n",
      "SHV-1 [[-1.594573  -3.7950547]]\n",
      "PSE-1 [[ 0.15995103 -3.7182355 ]]\n",
      "RTG-2 [[-0.92738605 -3.0288014 ]]\n",
      "CumA [[-3.2842488 -2.239572 ]]\n",
      "OXY-1 [[-3.4047217 -2.541081 ]]\n",
      "KLUA-1 [[-3.4351463 -2.491623 ]]\n",
      "CTX-M-1 [[-3.2529092 -2.417266 ]]\n",
      "NMCA [[-2.1844745 -1.0966759]]\n",
      "SME-1 [[-2.1025512 -1.0781057]]\n",
      "KPC-2 [[-2.0200968 -1.2231792]]\n",
      "GES-1 [[-0.5271453 -1.1179814]]\n",
      "BEL-1 [[-0.5254424 -1.1379243]]\n",
      "BPS-1 [[-2.0842948 -1.7738672]]\n",
      "PER-1 [[ 0.3129851 -2.456812 ]]\n",
      "CEF-1 [[ 0.35897338 -2.4763613 ]]\n",
      "VEB-1 [[ 0.35897338 -2.4763613 ]]\n",
      "TLA-2 [[ 0.3470771 -2.4109926]]\n",
      "CIA-1 [[ 0.35114914 -2.4821284 ]]\n",
      "CGA-1 [[ 0.32799575 -2.4589362 ]]\n",
      "CME-1 [[ 0.43387145 -2.485     ]]\n",
      "CSP-1 [[ 0.30705702 -2.4106147 ]]\n",
      "SPU-1 [[ 0.30705702 -2.4106147 ]]\n",
      "TLA-1 [[ 0.35378298 -2.3915188 ]]\n",
      "CblA [[ 0.35053062 -2.3613644 ]]\n",
      "CfxA [[ 0.3526337 -2.4483922]]\n",
      "CepA [[ 0.3563094 -2.565471 ]]\n",
      "TEM-1 [[-0.5880039 -0.9594799]]\n",
      "SHV-1 [[ 0.11567003 -1.1103659 ]]\n",
      "PSE-1 [[-2.314785  -1.7836888]]\n",
      "RTG-2 [[-1.1241223 -1.471876 ]]\n",
      "CumA [[ 0.13495418 -1.2331818 ]]\n",
      "OXY-1 [[ 0.14441971 -1.3779609 ]]\n",
      "KLUA-1 [[ 0.24573837 -1.4041791 ]]\n",
      "CTX-M-1 [[ 0.79829234 -1.761225  ]]\n",
      "NMCA [[-0.80032814 -0.80502754]]\n",
      "SME-1 [[-0.8626169  -0.89567566]]\n",
      "KPC-2 [[ 0.07853521 -0.83877057]]\n",
      "GES-1 [[-1.094456  -0.8958075]]\n",
      "BEL-1 [[-0.92390233 -0.8953071 ]]\n",
      "BPS-1 [[ 0.17577754 -0.9498499 ]]\n",
      "PER-1 [[-0.43160424  0.6474682 ]]\n",
      "CEF-1 [[-0.4839277   0.65245736]]\n",
      "VEB-1 [[-0.4839277   0.65245736]]\n",
      "TLA-2 [[-1.3926009   0.37177756]]\n",
      "CIA-1 [[-0.8514322   0.76211333]]\n",
      "CGA-1 [[-1.8176719   0.07429383]]\n",
      "CME-1 [[-0.45096698  0.70111096]]\n",
      "CSP-1 [[-1.8007439   0.11036742]]\n",
      "SPU-1 [[-1.8007439   0.11036742]]\n",
      "TLA-1 [[-0.61862713  0.6372545 ]]\n",
      "CblA [[-2.930849  -0.1187507]]\n",
      "CfxA [[-0.7065778  0.7560892]]\n",
      "CepA [[-0.97398245  0.81599414]]\n",
      "TEM-1 [[ 0.9181472 -1.984933 ]]\n",
      "SHV-1 [[ 0.8625405 -1.952248 ]]\n",
      "PSE-1 [[ 1.0756387 -2.1351564]]\n",
      "RTG-2 [[ 0.9424553 -2.1431954]]\n",
      "CumA [[ 0.3897055 -1.4381651]]\n",
      "OXY-1 [[ 0.4067026 -1.489821 ]]\n",
      "KLUA-1 [[ 0.38422623 -1.476128  ]]\n",
      "CTX-M-1 [[ 0.43769386 -1.5173767 ]]\n",
      "NMCA [[ 0.48970506 -1.4737637 ]]\n",
      "SME-1 [[ 0.5384474 -1.5006095]]\n",
      "KPC-2 [[ 0.59579384 -2.0012136 ]]\n",
      "GES-1 [[ 0.7942376 -1.8894949]]\n",
      "BEL-1 [[ 0.744295  -1.9580756]]\n",
      "BPS-1 [[ 0.6336224 -2.0199144]]\n",
      "PER-1 [[ 0.93476164 -1.83082   ]]\n",
      "CEF-1 [[ 1.0338387 -2.0340252]]\n",
      "VEB-1 [[ 1.0338387 -2.0340252]]\n",
      "TLA-2 [[ 1.0099305 -1.7716314]]\n",
      "CIA-1 [[ 1.2518051 -1.9185264]]\n",
      "CGA-1 [[ 1.0776571 -1.8967084]]\n",
      "CME-1 [[ 1.2433262 -1.8659786]]\n",
      "CSP-1 [[ 1.1200464 -1.919572 ]]\n",
      "SPU-1 [[ 1.1200464 -1.919572 ]]\n",
      "TLA-1 [[ 1.0355196 -1.9343532]]\n",
      "CblA [[ 1.0052559 -1.6922277]]\n",
      "CfxA [[ 0.9679097 -1.4306682]]\n",
      "CepA [[ 0.9413297 -1.5334609]]\n"
     ]
    }
   ],
   "source": [
    "\n",
    "\n"
   ]
  },
  {
   "cell_type": "code",
   "execution_count": 9,
   "metadata": {},
   "outputs": [
    {
     "data": {
      "image/png": "[encoded data removed]",
      "text/plain": [
       "<Figure size 432x432 with 4 Axes>"
      ]
     },
     "metadata": {
      "needs_background": "light"
     },
     "output_type": "display_data"
    }
   ],
   "source": [
    "import matplotlib.pyplot as plt\n",
    "\n",
    "titles = [\"query-centric\",\"full alignment\",\"no reweighting\",\"density reweighting\"]\n",
    "\n",
    "fig, ax = plt.subplots(2, len(models)//2, figsize=(len(models)*3/2,len(models)*3/2), sharex=True, sharey=True)\n",
    "plt.subplots_adjust(wspace=0.02, hspace=0.02, left=0.06, right=0.95, bottom=0.06, top=0.95)\n",
    "\n",
    "ax[0,1].yaxis.set_label_position('right')\n",
    "ax[0,1].set_ylabel(titles[0], rotation=270, labelpad=13, fontsize=12)\n",
    "ax[1,1].yaxis.set_label_position('right')\n",
    "ax[1,1].set_ylabel(titles[1], rotation=270, labelpad=13, fontsize=12)\n",
    "ax[0,0].xaxis.set_label_position('top')\n",
    "ax[0,0].set_xlabel(titles[2], fontsize=12)\n",
    "ax[0,1].xaxis.set_label_position('top')\n",
    "ax[0,1].set_xlabel(titles[3], fontsize=12)\n",
    "\n",
    "labels = ['a', 'b', 'c', 'd']\n",
    "\n",
    "blue = np.array([.13, .35, .61])\n",
    "green = np.array([.25, .73, .28])\n",
    "yellow = np.array([254,192,113])/255.0\n",
    "purple = [.42, .16, .42]\n",
    "\n",
    "for k, model in enumerate(models):\n",
    "    \n",
    "    i = k//2\n",
    "    j = k%2\n",
    "\n",
    "    embedded = embeddings[k]\n",
    "    a1_zs = zs[k]['A1']\n",
    "    a2_zs = zs[k]['A2']\n",
    "    \n",
    "    ax[i,j].axvline(x=0, color='0.95', zorder=0, lw=1)\n",
    "    ax[i,j].axhline(y=0, color='0.95', zorder=0, lw=1)\n",
    "    ax[i,j].plot(embedded[:,0],\n",
    "               embedded[:,1],\n",
    "               '.', color='0.8', markersize=5, alpha=0.5, zorder=1)\n",
    "    ax[i,j].scatter(a1_zs[:,0], a1_zs[:,1], color=green, s=60, zorder=2, edgecolors='black', alpha=1.0)\n",
    "    ax[i,j].scatter(a2_zs[:,0], a2_zs[:,1], color=yellow, s=60, zorder=2, edgecolors='black', alpha=1.0)\n",
    "    ax[i,j].set_xticks([])\n",
    "    ax[i,j].set_yticks([])\n",
    "    ax[i,j].set_xticks([-5, 0, 5])\n",
    "    ax[i,j].set_yticks([-5, 0, 5])\n",
    "    ax[i,j].set_xlim([-8,8])\n",
    "    ax[i,j].set_ylim([-8,8])\n",
    "    ax[i,j].set(aspect='equal')\n",
    "    ax[i,j].tick_params(axis='both', which='major', labelsize=12)\n",
    "    ax[i,j].text(0.04, 0.96, labels[k], transform=ax[i,j].transAxes, fontweight='bold', fontsize=10, verticalalignment='top')\n",
    "\n",
    "plt.savefig('embeddings.svg')\n"
   ]
  },
  {
   "cell_type": "code",
   "execution_count": 15,
   "metadata": {},
   "outputs": [
    {
     "data": {
      "text/plain": [
       "[None]"
      ]
     },
     "execution_count": 15,
     "metadata": {},
     "output_type": "execute_result"
    },
    {
     "data": {
      "image/png": "[encoded data removed]",
      "text/plain": [
       "<Figure size 432x288 with 1 Axes>"
      ]
     },
     "metadata": {
      "needs_background": "light"
     },
     "output_type": "display_data"
    }
   ],
   "source": [
    "fig, ax = plt.subplots()\n",
    "embedded = embeddings[-1]\n",
    "a1_zs = zs[-1]['A1']\n",
    "a2_zs = zs[-1]['A2']\n",
    "ax.plot(embedded[:,0],\n",
    "        embedded[:,1],\n",
    "        '.', color='0.8', markersize=5, alpha=0.5, zorder=1)\n",
    "ax.scatter(a1_zs[:,0], a1_zs[:,1], color=green, s=60, zorder=2, edgecolors='black', alpha=1.0)\n",
    "ax.scatter(a2_zs[:,0], a2_zs[:,1], color=yellow, s=60, zorder=2, edgecolors='black', alpha=1.0)\n",
    "    \n",
    "ax.set_xlim([0,2])\n",
    "ax.set_ylim([-3,-1])\n",
    "ax.set(aspect='equal')\n",
    "    \n"
   ]
  },
  {
   "cell_type": "markdown",
   "metadata": {},
   "source": [
    "# Calculating geodesic"
   ]
  },
  {
   "cell_type": "code",
   "execution_count": 13,
   "metadata": {},
   "outputs": [
    {
     "name": "stdout",
     "output_type": "stream",
     "text": [
      "Interpolating between [ 2.224162  -2.2215707] and [ 3.1500242 -1.4500315]\n"
     ]
    }
   ],
   "source": [
    "# Continuing with last model\n",
    "model = models[-1]\n",
    "\n",
    "# Picking two points to interpolate between\n",
    "p1 = zs[-1]['A1'][2]\n",
    "p2 = zs[-1]['A2'][1]\n",
    "print(\"Interpolating between {} and {}\".format(p1, p2))\n",
    "\n",
    "# Linear interpolant\n",
    "t = np.linspace(0, 1, 100)[:,None]\n",
    "linear = t*(p2-p1)[None,:]+p1\n",
    "\n",
    "# Geodesic interpolant\n"
   ]
  },
  {
   "cell_type": "markdown",
   "metadata": {},
   "source": [
    "# Experiment 8 plot"
   ]
  },
  {
   "cell_type": "code",
   "execution_count": 14,
   "metadata": {},
   "outputs": [
    {
     "data": {
      "text/plain": [
       "[<matplotlib.lines.Line2D at 0x7f9c4926abe0>]"
      ]
     },
     "execution_count": 14,
     "metadata": {},
     "output_type": "execute_result"
    },
    {
     "data": {
      "image/png": "[encoded data removed]",
      "text/plain": [
       "<Figure size 345.6x345.6 with 1 Axes>"
      ]
     },
     "metadata": {
      "needs_background": "light"
     },
     "output_type": "display_data"
    }
   ],
   "source": [
    "fig, ax = plt.subplots(figsize=(4.8,4.8))\n",
    "\n",
    "plt.subplots_adjust(left=0.01, right=0.99, bottom=0.01, top=0.99)\n",
    "plt.plot(embedded[:,0],\n",
    "         embedded[:,1],\n",
    "         '.', color='0.8', markersize=30, alpha=0.075, zorder=1)"
   ]
  }
 ],
 "metadata": {
  "kernelspec": {
   "display_name": "Python 3",
   "language": "python",
   "name": "python3"
  },
  "language_info": {
   "codemirror_mode": {
    "name": "ipython",
    "version": 3
   },
   "file_extension": ".py",
   "mimetype": "text/x-python",
   "name": "python",
   "nbconvert_exporter": "python",
   "pygments_lexer": "ipython3",
   "version": "3.8.3"
  }
 },
 "nbformat": 4,
 "nbformat_minor": 4
}
