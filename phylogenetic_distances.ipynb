{
 "cells": [
  {
   "cell_type": "code",
   "execution_count": 63,
   "metadata": {},
   "outputs": [],
   "source": [
    "import os\n",
    "import re\n",
    "import numpy as np\n",
    "from Bio import SeqIO"
   ]
  },
  {
   "cell_type": "markdown",
   "metadata": {},
   "source": [
    "# Load VAE models"
   ]
  },
  {
   "cell_type": "code",
   "execution_count": 106,
   "metadata": {},
   "outputs": [
    {
     "name": "stdout",
     "output_type": "stream",
     "text": [
      "tensor([1.0000, 0.0500, 0.0333,  ..., 1.0000, 1.0000, 0.5000])\n"
     ]
    }
   ],
   "source": [
    "import numpy as np\n",
    "import pytorch_lightning as pl\n",
    "import torch\n",
    "import torch.nn.functional as F\n",
    "\n",
    "from models.vae_geometric import VAE, get_hparams, aa1_to_index, aa1\n",
    "\n",
    "def get_data(data_filename, calc_weights=True, similarity_threshold=0.8):\n",
    "    ids = []\n",
    "    labels = []\n",
    "    seqs = []\n",
    "    label_re = re.compile(r'\\[([^\\]]*)\\]')\n",
    "    for record in SeqIO.parse(data_filename, \"fasta\"):\n",
    "        ids.append(record.id)\n",
    "        labels.append(label_re.search(record.description).group(1))\n",
    "        seqs.append(np.array([aa1_to_index[aa] for aa in str(record.seq).upper().replace('.', '-')]))\n",
    "        \n",
    "    seqs = torch.from_numpy(np.vstack(seqs))\n",
    "    labels = np.array(labels)\n",
    "\n",
    "    weights = None\n",
    "    if calc_weights is not False:\n",
    "        one_hot = F.one_hot(seqs.long()).to('cuda' if torch.cuda.is_available() else 'cpu')\n",
    "        one_hot[seqs>19] = 0\n",
    "        flat_one_hot = one_hot.flatten(1)\n",
    "\n",
    "        weights = []\n",
    "        weight_batch_size = 1000\n",
    "        flat_one_hot = flat_one_hot.float()\n",
    "        for i in range(seqs.size(0) // weight_batch_size + 1):\n",
    "            x = flat_one_hot[i * weight_batch_size : (i + 1) * weight_batch_size]\n",
    "            similarities = torch.mm(x, flat_one_hot.T)\n",
    "            lengths = (seqs[i * weight_batch_size : (i + 1) * weight_batch_size] <=19).sum(1).unsqueeze(-1).to('cuda' if torch.cuda.is_available() else 'cpu')\n",
    "            w = 1.0 / (similarities / lengths).gt(similarity_threshold).sum(1).float()\n",
    "            weights.append(w)\n",
    "            # plt.hist(similarities/lengths)\n",
    "            \n",
    "        weights = torch.cat(weights)\n",
    "        neff = weights.sum()\n",
    "\n",
    "    return seqs, labels, weights\n",
    "\n",
    "# Note that we deviate from the normal choice of 0.8 for the similarity threshold. This is \n",
    "# Due to the PFAM alignment being extremely long, with lots of positions matching gaps.\n",
    "data, labels, weights = get_data(\"PF00144_full_labeled.fasta\", calc_weights=True, similarity_threshold=0.6)\n",
    "print(weights)"
   ]
  },
  {
   "cell_type": "code",
   "execution_count": 107,
   "metadata": {},
   "outputs": [
    {
     "data": {
      "text/plain": [
       "(array([1450., 1036., 1206.,  949.,  785.,  774.,  476.,  670.,  382.,\n",
       "         410.,  473.,    0.,  587.,  691.,    0.,    0.,  853.,    0.,\n",
       "           0., 1144.,    0.,    0.,    0.,    0., 1470.,    0.,    0.,\n",
       "           0.,    0.,    0.,    0.,    0.,    0., 1980.,    0.,    0.,\n",
       "           0.,    0.,    0.,    0.,    0.,    0.,    0.,    0.,    0.,\n",
       "           0.,    0.,    0.,    0., 3713.,    0.,    0.,    0.,    0.,\n",
       "           0.,    0.,    0.,    0.,    0.,    0.,    0.,    0.,    0.,\n",
       "           0.,    0.,    0.,    0.,    0.,    0.,    0.,    0.,    0.,\n",
       "           0.,    0.,    0.,    0.,    0.,    0.,    0.,    0.,    0.,\n",
       "           0.,    0.,    0.,    0.,    0.,    0.,    0.,    0.,    0.,\n",
       "           0.,    0.,    0.,    0.,    0.,    0.,    0.,    0.,    0.,\n",
       "        9344.]),\n",
       " array([0.00383142, 0.0137931 , 0.02375479, 0.03371647, 0.04367816,\n",
       "        0.05363985, 0.06360153, 0.07356322, 0.08352491, 0.09348659,\n",
       "        0.10344828, 0.11340996, 0.12337165, 0.13333334, 0.14329502,\n",
       "        0.1532567 , 0.1632184 , 0.17318007, 0.18314177, 0.19310345,\n",
       "        0.20306513, 0.21302682, 0.2229885 , 0.2329502 , 0.24291188,\n",
       "        0.25287357, 0.26283523, 0.27279693, 0.28275862, 0.29272032,\n",
       "        0.30268198, 0.31264368, 0.32260537, 0.33256704, 0.34252873,\n",
       "        0.35249043, 0.36245212, 0.37241378, 0.38237548, 0.39233717,\n",
       "        0.40229884, 0.41226053, 0.42222223, 0.43218392, 0.4421456 ,\n",
       "        0.45210728, 0.46206897, 0.47203064, 0.48199233, 0.49195403,\n",
       "        0.5019157 , 0.5118774 , 0.5218391 , 0.53180075, 0.5417625 ,\n",
       "        0.55172414, 0.5616858 , 0.5716475 , 0.5816092 , 0.59157085,\n",
       "        0.6015326 , 0.61149424, 0.62145597, 0.63141763, 0.6413793 ,\n",
       "        0.651341  , 0.6613027 , 0.67126435, 0.6812261 , 0.69118774,\n",
       "        0.7011494 , 0.7111111 , 0.7210728 , 0.73103446, 0.7409962 ,\n",
       "        0.75095785, 0.7609195 , 0.77088124, 0.7808429 , 0.7908046 ,\n",
       "        0.8007663 , 0.81072795, 0.8206897 , 0.83065134, 0.840613  ,\n",
       "        0.85057473, 0.8605364 , 0.87049806, 0.8804598 , 0.89042145,\n",
       "        0.9003831 , 0.91034484, 0.9203065 , 0.9302682 , 0.9402299 ,\n",
       "        0.95019156, 0.9601533 , 0.97011495, 0.9800766 , 0.99003834,\n",
       "        1.        ], dtype=float32),\n",
       " <a list of 100 Patch objects>)"
      ]
     },
     "execution_count": 107,
     "metadata": {},
     "output_type": "execute_result"
    },
    {
     "data": {
      "image/png": "[encoded data removed]",
      "text/plain": [
       "<Figure size 432x288 with 1 Axes>"
      ]
     },
     "metadata": {
      "needs_background": "light"
     },
     "output_type": "display_data"
    }
   ],
   "source": [
    "plt.hist(weights, bins=100)"
   ]
  },
  {
   "cell_type": "code",
   "execution_count": 108,
   "metadata": {},
   "outputs": [],
   "source": [
    "import time\n",
    "def train_or_retrieve_model(name, data, weights, train_model, uncertainty_temperature):\n",
    "    \n",
    "    cmd_args = []\n",
    "    if train_model:\n",
    "        cmd_args += ['-gpu', '1' if torch.cuda.is_available() else '']\n",
    "    else:\n",
    "        cmd_args += ['-load_from', name+'.ckpt', '-gpu', '1' if torch.cuda.is_available() else '']\n",
    "    hparams = get_hparams(cmd_args)\n",
    "\n",
    "    pl.seed_everything(hparams.seed)\n",
    "\n",
    "    perm = np.random.permutation(data.shape[0])\n",
    "    \n",
    "    if hparams.load_from!='':\n",
    "        \n",
    "        if not os.path.exists(hparams.load_from):\n",
    "            filename = os.path.join('https://sid.erda.dk/share_redirect/a5PTfl88w0/', hparams.load_from)\n",
    "            !wget $filename\n",
    "        \n",
    "        print('Loading from checkpoint!')\n",
    "        model = VAE.load_from_checkpoint(checkpoint_path=hparams.load_from, data=data, perm=perm, weights=weights)\n",
    "\n",
    "        # for some reason these where not correctly saved in the checkpoint\n",
    "        model.switch = True\n",
    "        \n",
    "        # Trigger retraining of distnet, since this does not seem to be saved properly in checkpoint\n",
    "        model.distnet.initialized = False\n",
    "        \n",
    "        # Model fit specific parameter setting the temperature of the uncertainty\n",
    "        model.distnet.trans.beta.data = torch.tensor([uncertainty_temperature])\n",
    "        \n",
    "    else:\n",
    "        print('Training model!')\n",
    "        model = VAE(data=data, weights=weights, perm=perm, hparams=hparams)\n",
    "        trainer = pl.Trainer(gpus=1 if hparams.gpu else 0,\n",
    "                             max_epochs=hparams.epochs)\n",
    "        trainer.fit(model)\n",
    "        \n",
    "        trainer.save_checkpoint(name+'_{}.ckpt'.format(time.strftime(\"%Y%m%d\")))\n",
    "\n",
    "    return model"
   ]
  },
  {
   "cell_type": "code",
   "execution_count": null,
   "metadata": {},
   "outputs": [
    {
     "name": "stdout",
     "output_type": "stream",
     "text": [
      "Training model!\n"
     ]
    },
    {
     "name": "stderr",
     "output_type": "stream",
     "text": [
      "GPU available: False, used: False\n",
      "TPU available: None, using: 0 TPU cores\n",
      "\n",
      "  | Name          | Type             | Params\n",
      "---------------------------------------------------\n",
      "0 | encoder       | Sequential       | 91.7 M\n",
      "1 | encoder_mu    | Linear           | 3.0 K \n",
      "2 | encoder_scale | Sequential       | 3.0 K \n",
      "3 | decoder       | Sequential       | 29.9 M\n",
      "4 | loss_fn       | CrossEntropyLoss | 0     \n",
      "5 | distnet       | DistNet          | 401   \n",
      "---------------------------------------------------\n",
      "121 M     Trainable params\n",
      "400       Non-trainable params\n",
      "121 M     Total params\n",
      "/Users/wb/opt/miniconda3/lib/python3.8/site-packages/pytorch_lightning/utilities/distributed.py:49: UserWarning: The dataloader, val dataloader 0, does not have many workers which may be a bottleneck. Consider increasing the value of the `num_workers` argument` (try 8 which is the number of cpus on this machine) in the `DataLoader` init to improve performance.\n",
      "  warnings.warn(*args, **kwargs)\n"
     ]
    },
    {
     "data": {
      "application/vnd.jupyter.widget-view+json": {
       "model_id": "",
       "version_major": 2,
       "version_minor": 0
      },
      "text/plain": [
       "HBox(children=(FloatProgress(value=1.0, bar_style='info', description='Validation sanity check', layout=Layout…"
      ]
     },
     "metadata": {},
     "output_type": "display_data"
    },
    {
     "name": "stderr",
     "output_type": "stream",
     "text": [
      "/Users/wb/opt/miniconda3/lib/python3.8/site-packages/pytorch_lightning/utilities/distributed.py:49: UserWarning: The dataloader, train dataloader, does not have many workers which may be a bottleneck. Consider increasing the value of the `num_workers` argument` (try 8 which is the number of cpus on this machine) in the `DataLoader` init to improve performance.\n",
      "  warnings.warn(*args, **kwargs)\n"
     ]
    },
    {
     "data": {
      "application/vnd.jupyter.widget-view+json": {
       "model_id": "7fa4dfb483974897b69d4993a7f5bfd1",
       "version_major": 2,
       "version_minor": 0
      },
      "text/plain": [
       "HBox(children=(FloatProgress(value=1.0, bar_style='info', description='Training', layout=Layout(flex='2'), max…"
      ]
     },
     "metadata": {},
     "output_type": "display_data"
    },
    {
     "data": {
      "application/vnd.jupyter.widget-view+json": {
       "model_id": "",
       "version_major": 2,
       "version_minor": 0
      },
      "text/plain": [
       "HBox(children=(FloatProgress(value=1.0, bar_style='info', description='Validating', layout=Layout(flex='2'), m…"
      ]
     },
     "metadata": {},
     "output_type": "display_data"
    },
    {
     "data": {
      "application/vnd.jupyter.widget-view+json": {
       "model_id": "",
       "version_major": 2,
       "version_minor": 0
      },
      "text/plain": [
       "HBox(children=(FloatProgress(value=1.0, bar_style='info', description='Validating', layout=Layout(flex='2'), m…"
      ]
     },
     "metadata": {},
     "output_type": "display_data"
    },
    {
     "data": {
      "application/vnd.jupyter.widget-view+json": {
       "model_id": "",
       "version_major": 2,
       "version_minor": 0
      },
      "text/plain": [
       "HBox(children=(FloatProgress(value=1.0, bar_style='info', description='Validating', layout=Layout(flex='2'), m…"
      ]
     },
     "metadata": {},
     "output_type": "display_data"
    },
    {
     "data": {
      "application/vnd.jupyter.widget-view+json": {
       "model_id": "",
       "version_major": 2,
       "version_minor": 0
      },
      "text/plain": [
       "HBox(children=(FloatProgress(value=1.0, bar_style='info', description='Validating', layout=Layout(flex='2'), m…"
      ]
     },
     "metadata": {},
     "output_type": "display_data"
    },
    {
     "data": {
      "application/vnd.jupyter.widget-view+json": {
       "model_id": "",
       "version_major": 2,
       "version_minor": 0
      },
      "text/plain": [
       "HBox(children=(FloatProgress(value=1.0, bar_style='info', description='Validating', layout=Layout(flex='2'), m…"
      ]
     },
     "metadata": {},
     "output_type": "display_data"
    },
    {
     "data": {
      "application/vnd.jupyter.widget-view+json": {
       "model_id": "",
       "version_major": 2,
       "version_minor": 0
      },
      "text/plain": [
       "HBox(children=(FloatProgress(value=1.0, bar_style='info', description='Validating', layout=Layout(flex='2'), m…"
      ]
     },
     "metadata": {},
     "output_type": "display_data"
    },
    {
     "data": {
      "application/vnd.jupyter.widget-view+json": {
       "model_id": "",
       "version_major": 2,
       "version_minor": 0
      },
      "text/plain": [
       "HBox(children=(FloatProgress(value=1.0, bar_style='info', description='Validating', layout=Layout(flex='2'), m…"
      ]
     },
     "metadata": {},
     "output_type": "display_data"
    }
   ],
   "source": [
    "# Options\n",
    "train_models = True\n",
    "\n",
    "# model_pf00144 = train_or_retrieve_model('model_PF00144', \n",
    "#                                         data,\n",
    "#                                         weights=None,\n",
    "#                                         train_model=train_models,\n",
    "#                                         uncertainty_temperature=-3.5)\n",
    "model_pf00144_reweighted = train_or_retrieve_model('model_PF00144_reweighted', \n",
    "                                                   data,\n",
    "                                                   weights=weights,\n",
    "                                                   train_model=train_models,\n",
    "                                                   uncertainty_temperature=-3.5)\n",
    "models = [model_pf00144, model_pf00144_reweighted]"
   ]
  },
  {
   "cell_type": "code",
   "execution_count": null,
   "metadata": {},
   "outputs": [],
   "source": [
    "embeddings = []\n",
    "for model in [model_pf00144, model_pf00144_reweighted]:\n",
    "    embeddings.append([])\n",
    "    batchsize = 16\n",
    "    n_batch = int(np.ceil(model.data.shape[0] / batchsize))\n",
    "    for b in range(n_batch):\n",
    "        batch = model.data[b*batchsize:(b+1)*batchsize]\n",
    "        zs = model.embedding(batch.long().to(model._device))\n",
    "        embeddings[-1].append(zs.detach())\n",
    "    embeddings[-1] = np.vstack(embeddings[-1])\n",
    "    \n",
    "\n",
    "    import matplotlib.pyplot as plt\n",
    "\n",
    "# Color coding of organisms\n",
    "colors = [[106,61,154],\n",
    "          [254,192,113],\n",
    "          [226,28,29],\n",
    "          [250,155,153],\n",
    "          [252,129,2],\n",
    "          [168,206,227],\n",
    "          [51,162,45],\n",
    "          [179,225,139],\n",
    "          [28,121,179],\n",
    "          [193,193,193]]\n",
    "colors = np.array(colors) / 255.0\n",
    "fig, ax = plt.subplots(1, 2, figsize=(8, 4))\n",
    "for idx,_ in enumerate(embeddings):\n",
    "    for i in range(len(phyla)):\n",
    "        ax[idx].plot(embeddings[idx][labels==phyla[i],0],\n",
    "                     embeddings[idx][labels==phyla[i],1],\n",
    "                     '.', color=colors[i], label=phyla[i], markersize=1)    \n"
   ]
  },
  {
   "cell_type": "markdown",
   "metadata": {},
   "source": [
    "# Preprocessing"
   ]
  },
  {
   "cell_type": "code",
   "execution_count": 71,
   "metadata": {},
   "outputs": [
    {
     "name": "stdout",
     "output_type": "stream",
     "text": [
      "28393\n"
     ]
    }
   ],
   "source": [
    "# Options\n",
    "run_preprocessing = False\n",
    "n_sample = 500\n",
    "\n",
    "phyla = ['Acidobacteria', 'Actinobacteria', 'Bacteroidetes',\n",
    "         'Chloroflexi', 'Cyanobacteria', 'Deinococcus-Thermus',\n",
    "         'Firmicutes', 'Fusobacteria', 'Proteobacteria']#, 'Other']\n",
    "\n",
    "# # Data loading\n",
    "# data = np.load('PF_LIST.npz', allow_pickle=True)['arr_0']\n",
    "# aligned, seqs, labels, ids = [], [], [], []\n",
    "# for d in data:\n",
    "#     if d['label'] in phyla:\n",
    "#         aligned.append(d['aligned'])\n",
    "#         seqs.append(d['primary'])\n",
    "#         labels.append(d['label'])\n",
    "#         ids.append(d['id'])\n",
    "\n",
    "# N = len(aligned)\n",
    "# label_conv = dict([(k,v) for v,k in enumerate(np.unique(labels))])\n",
    "# max_length_align = max([len(seq) for seq in aligned])\n",
    "# max_length_seqs = max([len(seq) for seq in seqs])\n",
    "\n",
    "# filter_idx, filter_lab, filter_N = [ ], [ ], 0\n",
    "# for idx, lab in enumerate(labels):\n",
    "#     if lab in phyla:\n",
    "#         filter_idx.append(idx)\n",
    "#         filter_lab.append(lab)\n",
    "#         filter_N += 1\n",
    "# print(len(filter_idx))\n",
    "# print(len(ids))\n",
    "# print(max(ids))\n",
    "# print(\"***\", len(data))\n",
    "# print(\"****\", max(filter_idx))\n",
    "# print(\"*****\", len(filter_idx))\n",
    "\n",
    "# Retrieve Beta-lactamase alignment file. \n",
    "#if not os.path.exists('PF00144_full.txt'):\n",
    "#    !wget https://sid.erda.dk/share_redirect/a5PTfl88w0/PF00144_full.txt\n",
    "if not os.path.exists('PF00144_full_labeled.fasta'):\n",
    "    !wget https://sid.erda.dk/share_redirect/a5PTfl88w0/PF00144_full_labeled.fasta\n",
    "\n",
    "# Retrieve Beta-lactamase alignment file for which phyla labels could be extracted from Uniprot. \n",
    "if not os.path.exists('PF00144_full_length_sequences_labeled.fasta'):\n",
    "        !wget https://sid.erda.dk/share_redirect/a5PTfl88w0/PF00144_full_length_sequences_labeled.fasta\n",
    "            \n",
    "ids = []\n",
    "for record in SeqIO.parse('PF00144_full.txt', \"fasta\"):\n",
    "    ids.append(record.id.split('/')[0])\n",
    "\n",
    "filtered_ids = []\n",
    "label_re = re.compile(r'\\[([^\\]]*)\\]')\n",
    "for record in SeqIO.parse('PF00144_full_length_sequences_labeled.fasta', \"fasta\"):\n",
    "    label = label_re.search(record.description).group(1)\n",
    "    if label in phyla:\n",
    "        filtered_ids.append(record.id)\n",
    "\n",
    "# print(ids[:10])    \n",
    "# print(filtered_ids[:10])\n",
    "    \n",
    "filter_idx = []\n",
    "for i,id in enumerate(filtered_ids):\n",
    "    filter_idx.append(ids.index(id))\n",
    "# print(\"****\", max(filter_idx))\n",
    "# print(\"*****\", len(filter_idx))\n",
    "\n",
    "print(len(filtered_ids))\n",
    "#print(filter_idx)\n",
    "    \n",
    "if run_preprocessing:\n",
    "\n",
    "    !FastTree > /dev/null\n",
    "    if exit_code != 0:\n",
    "                    \n",
    "        # Attempt at making script self-contained by installing FastTree via conda. \n",
    "        # Seems to work on colab, but might not be super robust\n",
    "        !conda --version\n",
    "        if _exit_code != 0:\n",
    "            !pip install -q condacolab\n",
    "            import condacolab\n",
    "            condacolab.install()\n",
    "        \n",
    "        !conda install -c bioconda fasttree \n",
    "    \n",
    "    # Estimate tree\n",
    "    !FastTree < PF00144_full.txt > PF00144_tree.txt\n",
    "\n",
    "    sample_idx_i = np.random.choice(len(ids), n_sample)\n",
    "    sample_idx_j = np.random.choice(len(ids), n_sample)\n",
    "\n",
    "else:\n",
    "    # Retrieve Beta-lactamase tree file\n",
    "    if not os.path.exists('PF00144_tree.txt'):\n",
    "        !wget https://sid.erda.dk/share_redirect/a5PTfl88w0/PF00144_tree.txt    \n",
    "    \n",
    "    # Retrieve indices sampled for paper\n",
    "    if not os.path.exists('sample_i_j.npy'):\n",
    "        !wget https://sid.erda.dk/share_redirect/a5PTfl88w0/sample_i_j.npy    \n",
    "    \n",
    "    sample_idx_i, sample_idx_j = np.load('sample_i_j.npy')\n"
   ]
  },
  {
   "cell_type": "code",
   "execution_count": 65,
   "metadata": {},
   "outputs": [
    {
     "name": "stdout",
     "output_type": "stream",
     "text": [
      "Leaves:  36328\n"
     ]
    }
   ],
   "source": [
    "try:\n",
    "    from Bio import Phylo\n",
    "except:\n",
    "    !pip install biopython\n",
    "    from Bio import Phylo\n",
    "\n",
    "class TreeDist(object):\n",
    "    def __init__(self, filename):\n",
    "        self.tree = next(Phylo.parse(filename, 'newick'))\n",
    "        self.leaves = list(self.tree.get_terminals())\n",
    "\n",
    "    def id_to_id_dist(self, id1, id2):\n",
    "        idx1, idx2 = -1, -1\n",
    "        for i, leaf in enumerate(self.leaves):\n",
    "            if id1 in leaf.name:\n",
    "                idx1 = i\n",
    "            if id2 in leaf.name:\n",
    "                idx2 = i\n",
    "\n",
    "        assert idx1 != -1, 'could not find id1: ' + id1\n",
    "        assert idx2 != -1, 'could not find id2: ' + id2\n",
    "\n",
    "        return self.tree.distance(self.leaves[idx1],\n",
    "                                  self.leaves[idx2])\n",
    "    \n",
    "tree_dist = TreeDist(\"PF00144_tree.txt\")\n",
    "\n",
    "print(\"Leaves: \", len(tree_dist.leaves))\n",
    "\n",
    "# dist_tree = []\n",
    "# print('\\n Calculating distances')\n",
    "# for i, j in zip(sample_idx_i, sample_idx_j):\n",
    "#     dist_tree.append(tree_dist.id_to_id_dist(ids[filter_idx[i]], ids[filter_idx[j]]))\n",
    "# print(dist_tree)"
   ]
  },
  {
   "cell_type": "code",
   "execution_count": 93,
   "metadata": {},
   "outputs": [
    {
     "name": "stdout",
     "output_type": "stream",
     "text": [
      "tensor([1., 1., 1.,  ..., 1., 1., 1.])\n"
     ]
    }
   ],
   "source": []
  },
  {
   "cell_type": "code",
   "execution_count": 74,
   "metadata": {},
   "outputs": [],
   "source": []
  },
  {
   "cell_type": "code",
   "execution_count": 86,
   "metadata": {},
   "outputs": [
    {
     "name": "stdout",
     "output_type": "stream",
     "text": [
      "Training model!\n"
     ]
    },
    {
     "name": "stderr",
     "output_type": "stream",
     "text": [
      "GPU available: False, used: False\n",
      "TPU available: None, using: 0 TPU cores\n",
      "\n",
      "  | Name          | Type             | Params\n",
      "---------------------------------------------------\n",
      "0 | encoder       | Sequential       | 91.7 M\n",
      "1 | encoder_mu    | Linear           | 3.0 K \n",
      "2 | encoder_scale | Sequential       | 3.0 K \n",
      "3 | decoder       | Sequential       | 29.9 M\n",
      "4 | loss_fn       | CrossEntropyLoss | 0     \n",
      "5 | distnet       | DistNet          | 401   \n",
      "---------------------------------------------------\n",
      "121 M     Trainable params\n",
      "400       Non-trainable params\n",
      "121 M     Total params\n",
      "/Users/wb/opt/miniconda3/lib/python3.8/site-packages/pytorch_lightning/utilities/distributed.py:49: UserWarning: The dataloader, val dataloader 0, does not have many workers which may be a bottleneck. Consider increasing the value of the `num_workers` argument` (try 8 which is the number of cpus on this machine) in the `DataLoader` init to improve performance.\n",
      "  warnings.warn(*args, **kwargs)\n"
     ]
    },
    {
     "data": {
      "application/vnd.jupyter.widget-view+json": {
       "model_id": "",
       "version_major": 2,
       "version_minor": 0
      },
      "text/plain": [
       "HBox(children=(FloatProgress(value=1.0, bar_style='info', description='Validation sanity check', layout=Layout…"
      ]
     },
     "metadata": {},
     "output_type": "display_data"
    },
    {
     "name": "stderr",
     "output_type": "stream",
     "text": [
      "/Users/wb/opt/miniconda3/lib/python3.8/site-packages/pytorch_lightning/utilities/distributed.py:49: UserWarning: The dataloader, train dataloader, does not have many workers which may be a bottleneck. Consider increasing the value of the `num_workers` argument` (try 8 which is the number of cpus on this machine) in the `DataLoader` init to improve performance.\n",
      "  warnings.warn(*args, **kwargs)\n"
     ]
    },
    {
     "data": {
      "application/vnd.jupyter.widget-view+json": {
       "model_id": "59d8c72a46c44a11a6f90ae86e64ab44",
       "version_major": 2,
       "version_minor": 0
      },
      "text/plain": [
       "HBox(children=(FloatProgress(value=1.0, bar_style='info', description='Training', layout=Layout(flex='2'), max…"
      ]
     },
     "metadata": {},
     "output_type": "display_data"
    },
    {
     "data": {
      "application/vnd.jupyter.widget-view+json": {
       "model_id": "",
       "version_major": 2,
       "version_minor": 0
      },
      "text/plain": [
       "HBox(children=(FloatProgress(value=1.0, bar_style='info', description='Validating', layout=Layout(flex='2'), m…"
      ]
     },
     "metadata": {},
     "output_type": "display_data"
    },
    {
     "data": {
      "application/vnd.jupyter.widget-view+json": {
       "model_id": "",
       "version_major": 2,
       "version_minor": 0
      },
      "text/plain": [
       "HBox(children=(FloatProgress(value=1.0, bar_style='info', description='Validating', layout=Layout(flex='2'), m…"
      ]
     },
     "metadata": {},
     "output_type": "display_data"
    },
    {
     "data": {
      "application/vnd.jupyter.widget-view+json": {
       "model_id": "",
       "version_major": 2,
       "version_minor": 0
      },
      "text/plain": [
       "HBox(children=(FloatProgress(value=1.0, bar_style='info', description='Validating', layout=Layout(flex='2'), m…"
      ]
     },
     "metadata": {},
     "output_type": "display_data"
    },
    {
     "data": {
      "application/vnd.jupyter.widget-view+json": {
       "model_id": "",
       "version_major": 2,
       "version_minor": 0
      },
      "text/plain": [
       "HBox(children=(FloatProgress(value=1.0, bar_style='info', description='Validating', layout=Layout(flex='2'), m…"
      ]
     },
     "metadata": {},
     "output_type": "display_data"
    },
    {
     "data": {
      "application/vnd.jupyter.widget-view+json": {
       "model_id": "",
       "version_major": 2,
       "version_minor": 0
      },
      "text/plain": [
       "HBox(children=(FloatProgress(value=1.0, bar_style='info', description='Validating', layout=Layout(flex='2'), m…"
      ]
     },
     "metadata": {},
     "output_type": "display_data"
    },
    {
     "data": {
      "application/vnd.jupyter.widget-view+json": {
       "model_id": "",
       "version_major": 2,
       "version_minor": 0
      },
      "text/plain": [
       "HBox(children=(FloatProgress(value=1.0, bar_style='info', description='Validating', layout=Layout(flex='2'), m…"
      ]
     },
     "metadata": {},
     "output_type": "display_data"
    },
    {
     "data": {
      "application/vnd.jupyter.widget-view+json": {
       "model_id": "",
       "version_major": 2,
       "version_minor": 0
      },
      "text/plain": [
       "HBox(children=(FloatProgress(value=1.0, bar_style='info', description='Validating', layout=Layout(flex='2'), m…"
      ]
     },
     "metadata": {},
     "output_type": "display_data"
    },
    {
     "data": {
      "application/vnd.jupyter.widget-view+json": {
       "model_id": "",
       "version_major": 2,
       "version_minor": 0
      },
      "text/plain": [
       "HBox(children=(FloatProgress(value=1.0, bar_style='info', description='Validating', layout=Layout(flex='2'), m…"
      ]
     },
     "metadata": {},
     "output_type": "display_data"
    },
    {
     "data": {
      "application/vnd.jupyter.widget-view+json": {
       "model_id": "",
       "version_major": 2,
       "version_minor": 0
      },
      "text/plain": [
       "HBox(children=(FloatProgress(value=1.0, bar_style='info', description='Validating', layout=Layout(flex='2'), m…"
      ]
     },
     "metadata": {},
     "output_type": "display_data"
    },
    {
     "data": {
      "application/vnd.jupyter.widget-view+json": {
       "model_id": "",
       "version_major": 2,
       "version_minor": 0
      },
      "text/plain": [
       "HBox(children=(FloatProgress(value=1.0, bar_style='info', description='Validating', layout=Layout(flex='2'), m…"
      ]
     },
     "metadata": {},
     "output_type": "display_data"
    },
    {
     "data": {
      "application/vnd.jupyter.widget-view+json": {
       "model_id": "",
       "version_major": 2,
       "version_minor": 0
      },
      "text/plain": [
       "HBox(children=(FloatProgress(value=1.0, bar_style='info', description='Validating', layout=Layout(flex='2'), m…"
      ]
     },
     "metadata": {},
     "output_type": "display_data"
    },
    {
     "data": {
      "application/vnd.jupyter.widget-view+json": {
       "model_id": "",
       "version_major": 2,
       "version_minor": 0
      },
      "text/plain": [
       "HBox(children=(FloatProgress(value=1.0, bar_style='info', description='Validating', layout=Layout(flex='2'), m…"
      ]
     },
     "metadata": {},
     "output_type": "display_data"
    },
    {
     "data": {
      "application/vnd.jupyter.widget-view+json": {
       "model_id": "",
       "version_major": 2,
       "version_minor": 0
      },
      "text/plain": [
       "HBox(children=(FloatProgress(value=1.0, bar_style='info', description='Validating', layout=Layout(flex='2'), m…"
      ]
     },
     "metadata": {},
     "output_type": "display_data"
    },
    {
     "data": {
      "application/vnd.jupyter.widget-view+json": {
       "model_id": "",
       "version_major": 2,
       "version_minor": 0
      },
      "text/plain": [
       "HBox(children=(FloatProgress(value=1.0, bar_style='info', description='Validating', layout=Layout(flex='2'), m…"
      ]
     },
     "metadata": {},
     "output_type": "display_data"
    },
    {
     "data": {
      "application/vnd.jupyter.widget-view+json": {
       "model_id": "",
       "version_major": 2,
       "version_minor": 0
      },
      "text/plain": [
       "HBox(children=(FloatProgress(value=1.0, bar_style='info', description='Validating', layout=Layout(flex='2'), m…"
      ]
     },
     "metadata": {},
     "output_type": "display_data"
    },
    {
     "data": {
      "application/vnd.jupyter.widget-view+json": {
       "model_id": "",
       "version_major": 2,
       "version_minor": 0
      },
      "text/plain": [
       "HBox(children=(FloatProgress(value=1.0, bar_style='info', description='Validating', layout=Layout(flex='2'), m…"
      ]
     },
     "metadata": {},
     "output_type": "display_data"
    },
    {
     "data": {
      "application/vnd.jupyter.widget-view+json": {
       "model_id": "",
       "version_major": 2,
       "version_minor": 0
      },
      "text/plain": [
       "HBox(children=(FloatProgress(value=1.0, bar_style='info', description='Validating', layout=Layout(flex='2'), m…"
      ]
     },
     "metadata": {},
     "output_type": "display_data"
    },
    {
     "data": {
      "application/vnd.jupyter.widget-view+json": {
       "model_id": "",
       "version_major": 2,
       "version_minor": 0
      },
      "text/plain": [
       "HBox(children=(FloatProgress(value=1.0, bar_style='info', description='Validating', layout=Layout(flex='2'), m…"
      ]
     },
     "metadata": {},
     "output_type": "display_data"
    },
    {
     "data": {
      "application/vnd.jupyter.widget-view+json": {
       "model_id": "",
       "version_major": 2,
       "version_minor": 0
      },
      "text/plain": [
       "HBox(children=(FloatProgress(value=1.0, bar_style='info', description='Validating', layout=Layout(flex='2'), m…"
      ]
     },
     "metadata": {},
     "output_type": "display_data"
    },
    {
     "data": {
      "application/vnd.jupyter.widget-view+json": {
       "model_id": "",
       "version_major": 2,
       "version_minor": 0
      },
      "text/plain": [
       "HBox(children=(FloatProgress(value=1.0, bar_style='info', description='Validating', layout=Layout(flex='2'), m…"
      ]
     },
     "metadata": {},
     "output_type": "display_data"
    },
    {
     "name": "stdout",
     "output_type": "stream",
     "text": [
      "\n"
     ]
    }
   ],
   "source": []
  },
  {
   "cell_type": "code",
   "execution_count": 89,
   "metadata": {},
   "outputs": [],
   "source": []
  },
  {
   "cell_type": "code",
   "execution_count": 92,
   "metadata": {},
   "outputs": [
    {
     "name": "stdout",
     "output_type": "stream",
     "text": [
      "['Actinobacteria' 'Actinobacteria' 'Actinobacteria' ... 'Proteobacteria'\n",
      " 'Actinobacteria' 'Bacteroidetes']\n"
     ]
    },
    {
     "data": {
      "image/png": "[encoded data removed]",
      "text/plain": [
       "<Figure size 576x288 with 2 Axes>"
      ]
     },
     "metadata": {
      "needs_background": "light"
     },
     "output_type": "display_data"
    }
   ],
   "source": []
  },
  {
   "cell_type": "markdown",
   "metadata": {},
   "source": [
    "## Covariances"
   ]
  },
  {
   "cell_type": "code",
   "execution_count": null,
   "metadata": {},
   "outputs": [],
   "source": [
    "phylo_distances"
   ]
  }
 ],
 "metadata": {
  "kernelspec": {
   "display_name": "Python 3",
   "language": "python",
   "name": "python3"
  },
  "language_info": {
   "codemirror_mode": {
    "name": "ipython",
    "version": 3
   },
   "file_extension": ".py",
   "mimetype": "text/x-python",
   "name": "python",
   "nbconvert_exporter": "python",
   "pygments_lexer": "ipython3",
   "version": "3.8.3"
  }
 },
 "nbformat": 4,
 "nbformat_minor": 4
}
